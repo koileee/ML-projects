{
  "nbformat": 4,
  "nbformat_minor": 0,
  "metadata": {
    "colab": {
      "name": "cs480_fall20_asst5_char_rnn_classification.ipynb",
      "provenance": []
    },
    "language_info": {
      "codemirror_mode": {
        "name": "ipython",
        "version": 3
      },
      "file_extension": ".py",
      "mimetype": "text/x-python",
      "name": "python",
      "nbconvert_exporter": "python",
      "pygments_lexer": "ipython3",
      "version": "3.6.6"
    },
    "kernelspec": {
      "name": "python3",
      "display_name": "Python 3"
    },
    "accelerator": "GPU"
  },
  "cells": [
    {
      "cell_type": "markdown",
      "metadata": {
        "id": "o3UFgeUebGKo"
      },
      "source": [
        "Download the data"
      ]
    },
    {
      "cell_type": "code",
      "metadata": {
        "id": "P6BH8Bgpa_ZS",
        "outputId": "400c5279-0a0c-4a51-ecff-4cc92a9d3e0f",
        "colab": {
          "base_uri": "https://localhost:8080/"
        }
      },
      "source": [
        "!wget https://download.pytorch.org/tutorial/data.zip\n",
        "!unzip data.zip\n",
        "!ls"
      ],
      "execution_count": null,
      "outputs": [
        {
          "output_type": "stream",
          "text": [
            "n\n",
            "--2020-11-05 01:19:56--  https://download.pytorch.org/tutorial/data.zip\n",
            "Resolving download.pytorch.org (download.pytorch.org)... 13.32.207.111, 13.32.207.30, 13.32.207.54, ...\n",
            "Connecting to download.pytorch.org (download.pytorch.org)|13.32.207.111|:443... connected.\n",
            "HTTP request sent, awaiting response... 200 OK\n",
            "Length: 2882130 (2.7M) [application/zip]\n",
            "Saving to: ‘data.zip.3’\n",
            "\n",
            "\rdata.zip.3            0%[                    ]       0  --.-KB/s               \rdata.zip.3          100%[===================>]   2.75M  --.-KB/s    in 0.01s   \n",
            "\n",
            "2020-11-05 01:19:56 (250 MB/s) - ‘data.zip.3’ saved [2882130/2882130]\n",
            "\n",
            "n\n",
            "Archive:  data.zip\n",
            "replace data/eng-fra.txt? [y]es, [n]o, [A]ll, [N]one, [r]ename: replace data/names/Arabic.txt? [y]es, [n]o, [A]ll, [N]one, [r]ename: char_gru_classification_model.pt   data        data.zip.2\n",
            "char_lstm_classification_model.pt  data.zip    data.zip.3\n",
            "char_rnn_classification_model.pt   data.zip.1  sample_data\n"
          ],
          "name": "stdout"
        }
      ]
    },
    {
      "cell_type": "code",
      "metadata": {
        "id": "IGZLdMtDUfxu"
      },
      "source": [
        "%matplotlib inline"
      ],
      "execution_count": null,
      "outputs": []
    },
    {
      "cell_type": "markdown",
      "metadata": {
        "id": "KNkkHixNUfxz"
      },
      "source": [
        "\n",
        "Classifying Names with a Character-Level RNN\n",
        "*********************************************\n",
        "**Author**: `Sean Robertson <https://github.com/spro/practical-pytorch>`_\n",
        "\n",
        "We will be building and training a basic character-level RNN to classify\n",
        "words. A character-level RNN reads words as a series of characters -\n",
        "outputting a prediction and \"hidden state\" at each step, feeding its\n",
        "previous hidden state into each next step. We take the final prediction\n",
        "to be the output, i.e. which class the word belongs to.\n",
        "\n",
        "Specifically, we'll train on a few thousand surnames from 18 languages\n",
        "of origin, and predict which language a name is from based on the\n",
        "spelling:\n",
        "\n",
        "::\n",
        "\n",
        "    $ python predict.py Hinton\n",
        "    (-0.47) Scottish\n",
        "    (-1.52) English\n",
        "    (-3.57) Irish\n",
        "\n",
        "    $ python predict.py Schmidhuber\n",
        "    (-0.19) German\n",
        "    (-2.48) Czech\n",
        "    (-2.68) Dutch\n",
        "\n",
        "\n",
        "**Recommended Reading:**\n",
        "\n",
        "I assume you have at least installed PyTorch, know Python, and\n",
        "understand Tensors:\n",
        "\n",
        "-  http://pytorch.org/ For installation instructions\n",
        "-  :doc:`/beginner/deep_learning_60min_blitz` to get started with PyTorch in general\n",
        "-  :doc:`/beginner/pytorch_with_examples` for a wide and deep overview\n",
        "-  :doc:`/beginner/former_torchies_tutorial` if you are former Lua Torch user\n",
        "\n",
        "It would also be useful to know about RNNs and how they work:\n",
        "\n",
        "-  `The Unreasonable Effectiveness of Recurrent Neural\n",
        "   Networks <http://karpathy.github.io/2015/05/21/rnn-effectiveness/>`__\n",
        "   shows a bunch of real life examples\n",
        "-  `Understanding LSTM\n",
        "   Networks <http://colah.github.io/posts/2015-08-Understanding-LSTMs/>`__\n",
        "   is about LSTMs specifically but also informative about RNNs in\n",
        "   general\n",
        "\n",
        "Preparing the Data\n",
        "==================\n",
        "\n",
        ".. Note::\n",
        "   Download the data from\n",
        "   `here <https://download.pytorch.org/tutorial/data.zip>`_\n",
        "   and extract it to the current directory.\n",
        "\n",
        "Included in the ``data/names`` directory are 18 text files named as\n",
        "\"[Language].txt\". Each file contains a bunch of names, one name per\n",
        "line, mostly romanized (but we still need to convert from Unicode to\n",
        "ASCII).\n",
        "\n",
        "We'll end up with a dictionary of lists of names per language,\n",
        "``{language: [names ...]}``. The generic variables \"category\" and \"line\"\n",
        "(for language and name in our case) are used for later extensibility.\n",
        "\n"
      ]
    },
    {
      "cell_type": "code",
      "metadata": {
        "id": "MfLSXwTHUfxz",
        "outputId": "f4bcace3-35fb-4a9a-c968-86e0d880cc8b",
        "colab": {
          "base_uri": "https://localhost:8080/"
        }
      },
      "source": [
        "from __future__ import unicode_literals, print_function, division\n",
        "from io import open\n",
        "import glob\n",
        "import os\n",
        "import random\n",
        "\n",
        "def findFiles(path): return glob.glob(path)\n",
        "\n",
        "print(findFiles('data/names/*.txt'))\n",
        "\n",
        "import unicodedata\n",
        "import string\n",
        "import math\n",
        "\n",
        "all_letters = string.ascii_letters + \" .,;'\"\n",
        "n_letters = len(all_letters)\n",
        "\n",
        "# Turn a Unicode string to plain ASCII, thanks to http://stackoverflow.com/a/518232/2809427\n",
        "def unicodeToAscii(s):\n",
        "    return ''.join(\n",
        "        c for c in unicodedata.normalize('NFD', s)\n",
        "        if unicodedata.category(c) != 'Mn'\n",
        "        and c in all_letters\n",
        "    )\n",
        "\n",
        "print(unicodeToAscii('Ślusàrski'))\n",
        "\n",
        "# Build the category_lines dictionary, a list of names per language\n",
        "category_lines = {}\n",
        "train_data = {}\n",
        "validation_data = {}\n",
        "test_data = {}\n",
        "all_categories = []\n",
        "\n",
        "# Read a file and split into lines\n",
        "def readLines(filename):\n",
        "    lines = open(filename, encoding='utf-8').read().strip().split('\\n')\n",
        "    return [unicodeToAscii(line) for line in lines]\n",
        "\n",
        "for filename in findFiles('data/names/*.txt'):\n",
        "    category = os.path.splitext(os.path.basename(filename))[0]\n",
        "    all_categories.append(category)\n",
        "    lines = readLines(filename)\n",
        "    random.shuffle(lines)\n",
        "    train_data[category] = lines[0:int(math.floor(0.7*len(lines)))]\n",
        "    validation_data[category] = lines[int(math.floor(0.7*len(lines)))+1:int(math.floor(0.85*len(lines)))]\n",
        "    test_data[category] = lines[int(math.floor(0.85*len(lines)))+1:]\n",
        "    category_lines[category] = lines\n",
        "\n",
        "n_categories = len(all_categories)"
      ],
      "execution_count": null,
      "outputs": [
        {
          "output_type": "stream",
          "text": [
            "['data/names/Vietnamese.txt', 'data/names/Dutch.txt', 'data/names/Italian.txt', 'data/names/Chinese.txt', 'data/names/Russian.txt', 'data/names/German.txt', 'data/names/Greek.txt', 'data/names/Korean.txt', 'data/names/Czech.txt', 'data/names/French.txt', 'data/names/Portuguese.txt', 'data/names/Arabic.txt', 'data/names/Polish.txt', 'data/names/English.txt', 'data/names/Spanish.txt', 'data/names/Japanese.txt', 'data/names/Scottish.txt', 'data/names/Irish.txt']\n",
            "Slusarski\n"
          ],
          "name": "stdout"
        }
      ]
    },
    {
      "cell_type": "markdown",
      "metadata": {
        "id": "lPlBRkDuUfx2"
      },
      "source": [
        "Now we have ``category_lines``, a dictionary mapping each category\n",
        "(language) to a list of lines (names). We also kept track of\n",
        "``all_categories`` (just a list of languages) and ``n_categories`` for\n",
        "later reference.\n",
        "\n",
        "\n"
      ]
    },
    {
      "cell_type": "code",
      "metadata": {
        "id": "VKlnBNIjUfx2",
        "outputId": "cd4ad39e-c61c-41bc-9d93-f136560af220",
        "colab": {
          "base_uri": "https://localhost:8080/"
        }
      },
      "source": [
        "print(category_lines['Italian'][:5])"
      ],
      "execution_count": null,
      "outputs": [
        {
          "output_type": "stream",
          "text": [
            "['Scutese', 'Alunni', 'Alberici', 'Marchioni', 'Cingolani']\n"
          ],
          "name": "stdout"
        }
      ]
    },
    {
      "cell_type": "markdown",
      "metadata": {
        "id": "I5SGUIMRUfx4"
      },
      "source": [
        "Turning Names into Tensors\n",
        "--------------------------\n",
        "\n",
        "Now that we have all the names organized, we need to turn them into\n",
        "Tensors to make any use of them.\n",
        "\n",
        "To represent a single letter, we use a \"one-hot vector\" of size\n",
        "``<1 x n_letters>``. A one-hot vector is filled with 0s except for a 1\n",
        "at index of the current letter, e.g. ``\"b\" = <0 1 0 0 0 ...>``.\n",
        "\n",
        "To make a word we join a bunch of those into a 2D matrix\n",
        "``<line_length x 1 x n_letters>``.\n",
        "\n",
        "That extra 1 dimension is because PyTorch assumes everything is in\n",
        "batches - we're just using a batch size of 1 here.\n",
        "\n",
        "\n"
      ]
    },
    {
      "cell_type": "code",
      "metadata": {
        "id": "SPFamDJVUfx5",
        "outputId": "9127567b-d2d5-42a5-ccc7-756e2b585e48",
        "colab": {
          "base_uri": "https://localhost:8080/"
        }
      },
      "source": [
        "import torch\n",
        "\n",
        "# Find letter index from all_letters, e.g. \"a\" = 0\n",
        "def letterToIndex(letter):\n",
        "    return all_letters.find(letter)\n",
        "\n",
        "# Just for demonstration, turn a letter into a <1 x n_letters> Tensor\n",
        "def letterToTensor(letter):\n",
        "    tensor = torch.zeros(1, n_letters)\n",
        "    tensor[0][letterToIndex(letter)] = 1\n",
        "    return tensor\n",
        "\n",
        "# Turn a line into a <line_length x 1 x n_letters>,\n",
        "# or an array of one-hot letter vectors\n",
        "def lineToTensor(line):\n",
        "    tensor = torch.zeros(len(line), 1, n_letters)\n",
        "    for li, letter in enumerate(line):\n",
        "        tensor[li][0][letterToIndex(letter)] = 1\n",
        "    return tensor\n",
        "\n",
        "print(letterToTensor('J'))\n",
        "\n",
        "print(lineToTensor('Jones').size())"
      ],
      "execution_count": null,
      "outputs": [
        {
          "output_type": "stream",
          "text": [
            "tensor([[0., 0., 0., 0., 0., 0., 0., 0., 0., 0., 0., 0., 0., 0., 0., 0., 0., 0.,\n",
            "         0., 0., 0., 0., 0., 0., 0., 0., 0., 0., 0., 0., 0., 0., 0., 0., 0., 1.,\n",
            "         0., 0., 0., 0., 0., 0., 0., 0., 0., 0., 0., 0., 0., 0., 0., 0., 0., 0.,\n",
            "         0., 0., 0.]])\n",
            "torch.Size([5, 1, 57])\n"
          ],
          "name": "stdout"
        }
      ]
    },
    {
      "cell_type": "markdown",
      "metadata": {
        "id": "FBQkCWy_Ufx7"
      },
      "source": [
        "Creating the Network\n",
        "====================\n",
        "\n",
        "Before autograd, creating a recurrent neural network in Torch involved\n",
        "cloning the parameters of a layer over several timesteps. The layers\n",
        "held hidden state and gradients which are now entirely handled by the\n",
        "graph itself. This means you can implement a RNN in a very \"pure\" way,\n",
        "as regular feed-forward layers.\n",
        "\n",
        "This RNN module (mostly copied from `the PyTorch for Torch users\n",
        "tutorial <http://pytorch.org/tutorials/beginner/former_torchies/\n",
        "nn_tutorial.html#example-2-recurrent-net>`__)\n",
        "is just 2 linear layers which operate on an input and hidden state, with\n",
        "a LogSoftmax layer after the output.\n",
        "\n",
        ".. figure:: https://i.imgur.com/Z2xbySO.png\n",
        "   :alt:\n",
        "\n",
        "\n",
        "\n"
      ]
    },
    {
      "cell_type": "code",
      "metadata": {
        "id": "nAJSP2rTUfx8"
      },
      "source": [
        "import torch.nn as nn\n",
        "from torch.autograd import Variable\n",
        "\n",
        "class RNN(nn.Module):\n",
        "    def __init__(self, input_size, hidden_size, output_size):\n",
        "        super(RNN, self).__init__()\n",
        "\n",
        "        self.hidden_size = hidden_size\n",
        "\n",
        "        self.i2h = nn.Linear(input_size + hidden_size, hidden_size)\n",
        "        self.i2o = nn.Linear(input_size + hidden_size, output_size)\n",
        "        self.softmax = nn.LogSoftmax(dim=1)\n",
        "\n",
        "    def forward(self, input, hidden):\n",
        "        combined = torch.cat((input, hidden), 1)\n",
        "        hidden = self.i2h(combined)\n",
        "        output = self.i2o(combined)\n",
        "        output = self.softmax(output)\n",
        "        return output, hidden\n",
        "\n",
        "    def initHidden(self):\n",
        "        return torch.zeros(1, self.hidden_size)\n",
        "        \n",
        "\n",
        "n_hidden = 128\n",
        "rnn = RNN(n_letters, n_hidden, n_categories)      "
      ],
      "execution_count": null,
      "outputs": []
    },
    {
      "cell_type": "code",
      "metadata": {
        "id": "tE0oM0tjlaWo"
      },
      "source": [
        "class LSTM_rnn(nn.Module):\n",
        "    def __init__(self, input_size, hidden_size, output_size):\n",
        "        super(LSTM_rnn, self).__init__()\n",
        "\n",
        "        self.hidden_size = hidden_size\n",
        "\n",
        "        self.i2h = nn.LSTMCell(input_size, hidden_size)\n",
        "        self.i2o = nn.Linear(input_size + hidden_size, output_size)\n",
        "        self.softmax = nn.LogSoftmax(dim=1)\n",
        "\n",
        "    def forward(self, input, hidden):\n",
        "        combined = torch.cat((input, hidden[0]), 1)\n",
        "        hidden = self.i2h(input, hidden)\n",
        "        output = self.i2o(combined)\n",
        "        output = self.softmax(output)\n",
        "        return output, hidden\n",
        "\n",
        "    def initHidden(self):\n",
        "        return (torch.zeros(1, self.hidden_size), torch.zeros(1, self.hidden_size))\n",
        "\n",
        "n_hidden = 128\n",
        "lstm = LSTM_rnn(n_letters, n_hidden, n_categories)  "
      ],
      "execution_count": null,
      "outputs": []
    },
    {
      "cell_type": "code",
      "metadata": {
        "id": "jtISaJtJ-m5a"
      },
      "source": [
        "class GRU_rnn(nn.Module):\n",
        "    def __init__(self, input_size, hidden_size, output_size):\n",
        "        super(GRU_rnn, self).__init__()\n",
        "\n",
        "        self.hidden_size = hidden_size\n",
        "\n",
        "        self.i2h = nn.GRUCell(input_size, hidden_size)\n",
        "        self.i2o = nn.Linear(input_size + hidden_size, output_size)\n",
        "        self.softmax = nn.LogSoftmax(dim=1)\n",
        "\n",
        "    def forward(self, input, hidden):\n",
        "        combined = torch.cat((input, hidden), 1)\n",
        "        hidden = self.i2h(input, hidden)\n",
        "        output = self.i2o(combined)\n",
        "        output = self.softmax(output)\n",
        "        return output, hidden\n",
        "\n",
        "    def initHidden(self):\n",
        "        return torch.zeros(1, self.hidden_size)\n",
        "\n",
        "\n",
        "gru = GRU_rnn(n_letters, n_hidden, n_categories)  "
      ],
      "execution_count": null,
      "outputs": []
    },
    {
      "cell_type": "markdown",
      "metadata": {
        "id": "fhxOqo0mUfx-"
      },
      "source": [
        "To run a step of this network we need to pass an input (in our case, the\n",
        "Tensor for the current letter) and a previous hidden state (which we\n",
        "initialize as zeros at first). We'll get back the output (probability of\n",
        "each language) and a next hidden state (which we keep for the next\n",
        "step).\n",
        "\n",
        "\n"
      ]
    },
    {
      "cell_type": "code",
      "metadata": {
        "id": "5zjQ-ZXbUfx-"
      },
      "source": [
        "input = letterToTensor('A')\n",
        "hidden =torch.zeros(1, n_hidden)\n",
        "\n",
        "output, next_hidden = rnn(input, hidden)"
      ],
      "execution_count": null,
      "outputs": []
    },
    {
      "cell_type": "markdown",
      "metadata": {
        "id": "juc150V5UfyB"
      },
      "source": [
        "For the sake of efficiency we don't want to be creating a new Tensor for\n",
        "every step, so we will use ``lineToTensor`` instead of\n",
        "``letterToTensor`` and use slices. This could be further optimized by\n",
        "pre-computing batches of Tensors.\n",
        "\n",
        "\n"
      ]
    },
    {
      "cell_type": "code",
      "metadata": {
        "id": "hLpj5ZVPUfyB",
        "outputId": "f4f6a6e0-fe85-461c-a5e8-30deee8663f5",
        "colab": {
          "base_uri": "https://localhost:8080/"
        }
      },
      "source": [
        "input = lineToTensor('Albert')\n",
        "hidden = torch.zeros(1, n_hidden)\n",
        "\n",
        "output, next_hidden = gru(input[0], hidden)\n",
        "print(output)"
      ],
      "execution_count": null,
      "outputs": [
        {
          "output_type": "stream",
          "text": [
            "tensor([[-2.8606, -2.9764, -2.8367, -2.9430, -2.9073, -2.9551, -2.9396, -2.9211,\n",
            "         -2.8666, -2.9258, -2.9131, -2.8969, -2.8381, -2.8372, -2.8354, -2.8033,\n",
            "         -2.8849, -2.9061]], grad_fn=<LogSoftmaxBackward>)\n"
          ],
          "name": "stdout"
        }
      ]
    },
    {
      "cell_type": "markdown",
      "metadata": {
        "id": "Wy0E3nCjUfyE"
      },
      "source": [
        "As you can see the output is a ``<1 x n_categories>`` Tensor, where\n",
        "every item is the likelihood of that category (higher is more likely).\n",
        "\n",
        "\n"
      ]
    },
    {
      "cell_type": "markdown",
      "metadata": {
        "id": "ukMo68ApUfyF"
      },
      "source": [
        "Training\n",
        "========\n",
        "Preparing for Training\n",
        "----------------------\n",
        "\n",
        "Before going into training we should make a few helper functions. The\n",
        "first is to interpret the output of the network, which we know to be a\n",
        "likelihood of each category. We can use ``Tensor.topk`` to get the index\n",
        "of the greatest value:\n",
        "\n",
        "\n"
      ]
    },
    {
      "cell_type": "code",
      "metadata": {
        "id": "bFY_yAVKUfyG",
        "outputId": "bbda78b8-f297-4671-f141-300dda466825",
        "colab": {
          "base_uri": "https://localhost:8080/"
        }
      },
      "source": [
        "def categoryFromOutput(output):\n",
        "    top_n, top_i = output.topk(1)\n",
        "    category_i = top_i[0].item()\n",
        "    return all_categories[category_i], category_i\n",
        "\n",
        "print(categoryFromOutput(output))"
      ],
      "execution_count": null,
      "outputs": [
        {
          "output_type": "stream",
          "text": [
            "('Japanese', 15)\n"
          ],
          "name": "stdout"
        }
      ]
    },
    {
      "cell_type": "markdown",
      "metadata": {
        "id": "mdDJjeS5UfyJ"
      },
      "source": [
        "We will also want a quick way to get a training example (a name and its\n",
        "language):\n",
        "\n",
        "\n"
      ]
    },
    {
      "cell_type": "code",
      "metadata": {
        "id": "nTNx73poUfyK",
        "outputId": "04c928d3-122a-441c-ed3d-b0e38515571b",
        "colab": {
          "base_uri": "https://localhost:8080/"
        }
      },
      "source": [
        "import random\n",
        "\n",
        "def randomChoice(l):\n",
        "    return l[random.randint(0, len(l) - 1)]\n",
        "\n",
        "def randomTrainingExample():\n",
        "    category = randomChoice(all_categories)\n",
        "    line = randomChoice(train_data[category])\n",
        "    category_tensor = torch.tensor([all_categories.index(category)], dtype=torch.long)\n",
        "    line_tensor = lineToTensor(line)\n",
        "    return category, line, category_tensor, line_tensor\n",
        "\n",
        "for i in range(10):\n",
        "    category, line, category_tensor, line_tensor = randomTrainingExample()\n",
        "    print('category =', category, '/ line =', line)"
      ],
      "execution_count": null,
      "outputs": [
        {
          "output_type": "stream",
          "text": [
            "category = Chinese / line = Tian\n",
            "category = Russian / line = Janovitsky\n",
            "category = Vietnamese / line = Than\n",
            "category = Greek / line = Manoukarakis\n",
            "category = Scottish / line = Mackay\n",
            "category = Vietnamese / line = Ly\n",
            "category = Scottish / line = Davidson\n",
            "category = Portuguese / line = Albuquerque\n",
            "category = Vietnamese / line = Than\n",
            "category = Greek / line = Lillis\n"
          ],
          "name": "stdout"
        }
      ]
    },
    {
      "cell_type": "markdown",
      "metadata": {
        "id": "Z4gnruWLUfyM"
      },
      "source": [
        "Training the Network\n",
        "--------------------\n",
        "\n",
        "Now all it takes to train this network is show it a bunch of examples,\n",
        "have it make guesses, and tell it if it's wrong.\n",
        "\n",
        "For the loss function ``nn.NLLLoss`` is appropriate, since the last\n",
        "layer of the RNN is ``nn.LogSoftmax``.\n",
        "\n",
        "\n"
      ]
    },
    {
      "cell_type": "code",
      "metadata": {
        "id": "b91CnzJPUfyM"
      },
      "source": [
        "criterion = nn.NLLLoss()"
      ],
      "execution_count": null,
      "outputs": []
    },
    {
      "cell_type": "markdown",
      "metadata": {
        "id": "FAp0xov1UfyP"
      },
      "source": [
        "Each loop of training will:\n",
        "\n",
        "-  Create input and target tensors\n",
        "-  Create a zeroed initial hidden state\n",
        "-  Read each letter in and\n",
        "\n",
        "   -  Keep hidden state for next letter\n",
        "\n",
        "-  Compare final output to target\n",
        "-  Back-propagate\n",
        "-  Return the output and loss\n",
        "\n",
        "\n"
      ]
    },
    {
      "cell_type": "code",
      "metadata": {
        "id": "ED_i2_CWUfyP"
      },
      "source": [
        "optimizer_rnn = torch.optim.Adam(rnn.parameters())\n",
        "optimizer_gru = torch.optim.Adam(gru.parameters())\n",
        "optimizer_lstm = torch.optim.Adam(lstm.parameters())\n",
        "\n",
        "def train(category_tensor, line_tensor):\n",
        "    hidden = rnn.initHidden()\n",
        "    hidden_gru = gru.initHidden()\n",
        "    hidden_lstm = lstm.initHidden()\n",
        "\n",
        "    # reset gradient\n",
        "    rnn.zero_grad()\n",
        "    gru.zero_grad()\n",
        "    lstm.zero_grad()\n",
        "\n",
        "    for i in range(line_tensor.size()[0]):\n",
        "        output, hidden = rnn(line_tensor[i], hidden)\n",
        "        output_gru, hidden_gru = gru(line_tensor[i], hidden_gru)\n",
        "        output_lstm, hidden_lstm = lstm(line_tensor[i], hidden_lstm)\n",
        "\n",
        "    loss = criterion(output, category_tensor)\n",
        "    loss_gru = criterion(output_gru, category_tensor)\n",
        "    loss_lstm = criterion(output_lstm, category_tensor)\n",
        "    \n",
        "    loss.backward()\n",
        "    loss_gru.backward()\n",
        "    loss_lstm.backward()\n",
        "    # update parameters\n",
        "    optimizer_rnn.step()\n",
        "    optimizer_gru.step()\n",
        "    optimizer_lstm.step()\n",
        "\n",
        "    return [(output, loss.item()), (output_gru, loss_gru.item()), (output_lstm, loss_lstm.item())]"
      ],
      "execution_count": null,
      "outputs": []
    },
    {
      "cell_type": "markdown",
      "metadata": {
        "id": "R9usmP9JUfyR"
      },
      "source": [
        "Now we just have to run that with a bunch of examples. Since the\n",
        "``train`` function returns both the output and loss we can print its\n",
        "guesses and also keep track of loss for plotting. Since there are 1000s\n",
        "of examples we print only every ``print_every`` examples, and take an\n",
        "average of the loss.\n",
        "\n",
        "\n"
      ]
    },
    {
      "cell_type": "code",
      "metadata": {
        "id": "q-EUziAlUfyS",
        "outputId": "6688aac5-3ebb-48c8-e13b-55a67b3e4a72",
        "colab": {
          "base_uri": "https://localhost:8080/"
        }
      },
      "source": [
        "import time\n",
        "import math\n",
        "\n",
        "n_iters = 80000\n",
        "print_every = 5000\n",
        "plot_every = 1000\n",
        "\n",
        "# Keep track of losses for plotting\n",
        "train_loss_rnn = 0\n",
        "train_loss_gru = 0\n",
        "train_loss_lstm= 0\n",
        "all_train_losses_rnn = []\n",
        "all_train_losses_gru = []\n",
        "all_train_losses_lstm = []\n",
        "all_validation_losses_rnn = []\n",
        "all_validation_losses_gru = []\n",
        "all_validation_losses_lstm = []\n",
        "\n",
        "def timeSince(since):\n",
        "    now = time.time()\n",
        "    s = now - since\n",
        "    m = math.floor(s / 60)\n",
        "    s -= m * 60\n",
        "    return '%dm %ds' % (m, s)\n",
        "\n",
        "# Just return an output given a line\n",
        "def evaluate(line_tensor):\n",
        "    hidden = rnn.initHidden()\n",
        "    hidden_gru = gru.initHidden()\n",
        "    hidden_lstm = lstm.initHidden()\n",
        "    for i in range(line_tensor.size()[0]):\n",
        "        output, hidden = rnn(line_tensor[i], hidden)\n",
        "        output_gru, hidden_gru = gru(line_tensor[i], hidden_gru)\n",
        "        output_lstm, hidden_lstm = lstm(line_tensor[i], hidden_lstm)\n",
        "    return (output, output_gru, output_lstm)\n",
        "\n",
        "def eval_dataset(dataset):\n",
        "    loss_rnn = 0\n",
        "    loss_gru = 0\n",
        "    loss_lstm = 0\n",
        "    n_instances = 0\n",
        "    confusion_rnn = torch.zeros(n_categories, n_categories)\n",
        "    confusion_gru = torch.zeros(n_categories, n_categories)\n",
        "    confusion_lstm = torch.zeros(n_categories, n_categories)\n",
        "    for category in all_categories:\n",
        "        category_tensor = Variable(torch.LongTensor([all_categories.index(category)]))\n",
        "        n_instances += len(dataset[category])\n",
        "        for line in dataset[category]:\n",
        "            line_tensor = Variable(lineToTensor(line))\n",
        "            outputs = evaluate(line_tensor)\n",
        "            \n",
        "            output_rnn = outputs[0]\n",
        "            output_gru = outputs[1]\n",
        "            output_lstm = outputs[2]\n",
        "\n",
        "            loss_rnn += criterion(output_rnn, category_tensor)\n",
        "            loss_gru += criterion(output_gru, category_tensor)\n",
        "            loss_lstm += criterion(output_lstm, category_tensor)\n",
        "            guess_rnn, guess_i_rnn = categoryFromOutput(output_rnn)\n",
        "            category_i = all_categories.index(category)\n",
        "            confusion_rnn[category_i][guess_i_rnn] += 1\n",
        "            guess_gru, guess_i_gru = categoryFromOutput(output_gru)\n",
        "            confusion_gru[category_i][guess_i_gru] += 1\n",
        "            guess_lstm, guess_i_lstm = categoryFromOutput(output_lstm)\n",
        "            confusion_lstm[category_i][guess_i_lstm] += 1\n",
        "\n",
        "    # Normalize by dividing every row by its sum\n",
        "    for i in range(n_categories):\n",
        "        confusion_rnn[i] = confusion_rnn[i] / confusion_rnn[i].sum()\n",
        "        confusion_gru[i] = confusion_gru[i] / confusion_gru[i].sum()\n",
        "        confusion_lstm[i] = confusion_lstm[i] / confusion_lstm[i].sum()\n",
        "\n",
        "    return [(loss_rnn.item() / n_instances, confusion_rnn), \n",
        "            (loss_gru.item() / n_instances, confusion_gru), \n",
        "            (loss_lstm.item() / n_instances, confusion_lstm)]\n",
        "  \n",
        "print('\\nIter \\tTrain% \\tTime \\t\\tTrain_loss \\tExample')\n",
        "start = time.time()\n",
        "for iter in range(1, n_iters + 1):\n",
        "    category, line, category_tensor, line_tensor = randomTrainingExample()\n",
        "    results = train(category_tensor, line_tensor)\n",
        "    output_linear, loss_linear = results[0]\n",
        "    output_gru, loss_gru = results[1]\n",
        "    output_lstm, loss_lstm = results[2]\n",
        "    train_loss_rnn += loss_linear\n",
        "    train_loss_gru += loss_gru\n",
        "    train_loss_lstm += loss_lstm\n",
        "\n",
        "    # Print iter number, train loss average, name and guess\n",
        "    if iter % print_every == 0:\n",
        "        guess_rnn, guess_i = categoryFromOutput(output_linear)\n",
        "        correct = '✓' if guess == category else '✗ (%s)' % category\n",
        "        print('RNN %d \\t%d%% \\t(%s) \\t%.4f \\t\\t%s / %s %s' % (iter, iter / n_iters * 100, timeSince(start), train_loss_rnn / plot_every, line, guess_rnn, correct))\n",
        "        guess_gru, guess_i = categoryFromOutput(output_gru)\n",
        "        correct = '✓' if guess == category else '✗ (%s)' % category\n",
        "        print('GRU %d \\t%d%% \\t(%s) \\t%.4f \\t\\t%s / %s %s' % (iter, iter / n_iters * 100, timeSince(start), train_loss_gru / plot_every, line, guess_gru, correct))\n",
        "        guess_lstm, guess_i = categoryFromOutput(output_lstm)\n",
        "        correct = '✓' if guess == category else '✗ (%s)' % category\n",
        "        print('LSTM %d \\t%d%% \\t(%s) \\t%.4f \\t\\t%s / %s %s' % (iter, iter / n_iters * 100, timeSince(start), train_loss_lstm / plot_every, line, guess_lstm, correct))\n",
        "\n",
        "    # Add current train loss average to list of losses\n",
        "    if iter % plot_every == 0:\n",
        "        all_train_losses_rnn.append(train_loss_rnn/ plot_every)\n",
        "        all_train_losses_gru.append(train_loss_gru / plot_every)\n",
        "        all_train_losses_lstm.append(train_loss_lstm / plot_every)\n",
        "        train_loss_rnn = 0\n",
        "        train_loss_gru = 0\n",
        "        train_loss_lstm = 0\n",
        "        \n",
        "    # Compute loss based on validation data\n",
        "    if iter % plot_every == 0:\n",
        "        average_validation_loss = eval_dataset(validation_data)\n",
        "        avg_validation_loss_rnn = average_validation_loss[0][0]\n",
        "        avg_validation_loss_gru = average_validation_loss[1][0]\n",
        "        avg_validation_loss_lstm = average_validation_loss[2][0]\n",
        "\n",
        "        # save model with best validation loss\n",
        "        if len(all_validation_losses_rnn) == 0 or avg_validation_loss_rnn < min(all_validation_losses_rnn):\n",
        "            torch.save(rnn, 'char_rnn_classification_model.pt')\n",
        "        if len(all_validation_losses_gru) == 0 or avg_validation_loss_gru < min(all_validation_losses_gru):\n",
        "            torch.save(gru, 'char_gru_classification_model.pt')\n",
        "        if len(all_validation_losses_lstm) == 0 or avg_validation_loss_lstm < min(all_validation_losses_lstm):\n",
        "            torch.save(lstm, 'char_lstm_classification_model.pt')\n",
        "        all_validation_losses_rnn.append(avg_validation_loss_rnn)\n",
        "        all_validation_losses_gru.append(avg_validation_loss_gru)\n",
        "        all_validation_losses_lstm.append(avg_validation_loss_lstm)\n"
      ],
      "execution_count": null,
      "outputs": [
        {
          "output_type": "stream",
          "text": [
            "\n",
            "Iter \tTrain% \tTime \t\tTrain_loss \tExample\n",
            "RNN 5000 \t6% \t(1m 22s) \t1.7994 \t\tBencivenni / Italian ✗ (Italian)\n",
            "GRU 5000 \t6% \t(1m 22s) \t1.5679 \t\tBencivenni / Italian ✗ (Italian)\n",
            "LSTM 5000 \t6% \t(1m 22s) \t1.6574 \t\tBencivenni / Italian ✗ (Italian)\n",
            "RNN 10000 \t12% \t(2m 57s) \t1.5919 \t\tSchwenke / Czech ✗ (German)\n",
            "GRU 10000 \t12% \t(2m 57s) \t1.2917 \t\tSchwenke / German ✗ (German)\n",
            "LSTM 10000 \t12% \t(2m 57s) \t1.3910 \t\tSchwenke / German ✗ (German)\n",
            "RNN 15000 \t18% \t(4m 31s) \t1.5227 \t\tJapaskurt / Dutch ✗ (Russian)\n",
            "GRU 15000 \t18% \t(4m 31s) \t1.0222 \t\tJapaskurt / Dutch ✗ (Russian)\n",
            "LSTM 15000 \t18% \t(4m 31s) \t1.1261 \t\tJapaskurt / Dutch ✗ (Russian)\n",
            "RNN 20000 \t25% \t(6m 5s) \t1.3847 \t\tJohn / Korean ✗ (Irish)\n",
            "GRU 20000 \t25% \t(6m 5s) \t0.8468 \t\tJohn / Korean ✗ (Irish)\n",
            "LSTM 20000 \t25% \t(6m 5s) \t0.9261 \t\tJohn / Korean ✗ (Irish)\n",
            "RNN 25000 \t31% \t(7m 38s) \t1.3645 \t\tQuirke / Japanese ✗ (Irish)\n",
            "GRU 25000 \t31% \t(7m 38s) \t0.7083 \t\tQuirke / English ✗ (Irish)\n",
            "LSTM 25000 \t31% \t(7m 38s) \t0.8060 \t\tQuirke / English ✗ (Irish)\n",
            "RNN 30000 \t37% \t(9m 10s) \t1.3164 \t\tHyun  / Korean ✗ (Korean)\n",
            "GRU 30000 \t37% \t(9m 10s) \t0.6021 \t\tHyun  / Korean ✗ (Korean)\n",
            "LSTM 30000 \t37% \t(9m 10s) \t0.7052 \t\tHyun  / Korean ✗ (Korean)\n",
            "RNN 35000 \t43% \t(10m 43s) \t1.3333 \t\tSan nicolas / Greek ✗ (Spanish)\n",
            "GRU 35000 \t43% \t(10m 43s) \t0.5901 \t\tSan nicolas / Spanish ✗ (Spanish)\n",
            "LSTM 35000 \t43% \t(10m 43s) \t0.6528 \t\tSan nicolas / Spanish ✗ (Spanish)\n",
            "RNN 40000 \t50% \t(12m 17s) \t1.2986 \t\tSwitzer / Polish ✗ (German)\n",
            "GRU 40000 \t50% \t(12m 17s) \t0.4556 \t\tSwitzer / German ✗ (German)\n",
            "LSTM 40000 \t50% \t(12m 17s) \t0.5097 \t\tSwitzer / German ✗ (German)\n",
            "RNN 45000 \t56% \t(13m 50s) \t1.2160 \t\tSt pierre / Scottish ✗ (French)\n",
            "GRU 45000 \t56% \t(13m 50s) \t0.3750 \t\tSt pierre / French ✗ (French)\n",
            "LSTM 45000 \t56% \t(13m 50s) \t0.4457 \t\tSt pierre / French ✗ (French)\n",
            "RNN 50000 \t62% \t(15m 23s) \t1.2134 \t\tGarcia / Spanish ✗ (Portuguese)\n",
            "GRU 50000 \t62% \t(15m 23s) \t0.4135 \t\tGarcia / Portuguese ✗ (Portuguese)\n",
            "LSTM 50000 \t62% \t(15m 23s) \t0.4415 \t\tGarcia / Portuguese ✗ (Portuguese)\n",
            "RNN 55000 \t68% \t(16m 57s) \t1.1909 \t\tYasui / Arabic ✗ (Japanese)\n",
            "GRU 55000 \t68% \t(16m 57s) \t0.3794 \t\tYasui / Japanese ✗ (Japanese)\n",
            "LSTM 55000 \t68% \t(16m 57s) \t0.4209 \t\tYasui / Japanese ✗ (Japanese)\n",
            "RNN 60000 \t75% \t(18m 31s) \t1.1762 \t\tGianakopulos / Greek ✗ (Greek)\n",
            "GRU 60000 \t75% \t(18m 31s) \t0.3673 \t\tGianakopulos / Greek ✗ (Greek)\n",
            "LSTM 60000 \t75% \t(18m 31s) \t0.3954 \t\tGianakopulos / Greek ✗ (Greek)\n",
            "RNN 65000 \t81% \t(20m 3s) \t1.1571 \t\tan / Chinese ✗ (Vietnamese)\n",
            "GRU 65000 \t81% \t(20m 3s) \t0.3500 \t\tan / Vietnamese ✗ (Vietnamese)\n",
            "LSTM 65000 \t81% \t(20m 3s) \t0.3706 \t\tan / Vietnamese ✗ (Vietnamese)\n",
            "RNN 70000 \t87% \t(21m 37s) \t1.1201 \t\tSeighin / Irish ✗ (Irish)\n",
            "GRU 70000 \t87% \t(21m 37s) \t0.2804 \t\tSeighin / Irish ✗ (Irish)\n",
            "LSTM 70000 \t87% \t(21m 37s) \t0.3251 \t\tSeighin / Irish ✗ (Irish)\n",
            "RNN 75000 \t93% \t(23m 11s) \t1.0787 \t\tSnaijer / Dutch ✗ (Dutch)\n",
            "GRU 75000 \t93% \t(23m 11s) \t0.2503 \t\tSnaijer / Dutch ✗ (Dutch)\n",
            "LSTM 75000 \t93% \t(23m 11s) \t0.2683 \t\tSnaijer / Dutch ✗ (Dutch)\n",
            "RNN 80000 \t100% \t(24m 44s) \t1.1079 \t\tFeld / English ✗ (German)\n",
            "GRU 80000 \t100% \t(24m 44s) \t0.2422 \t\tFeld / English ✗ (German)\n",
            "LSTM 80000 \t100% \t(24m 44s) \t0.2807 \t\tFeld / English ✗ (German)\n"
          ],
          "name": "stdout"
        }
      ]
    },
    {
      "cell_type": "markdown",
      "metadata": {
        "id": "3mFqhbXRUfyU"
      },
      "source": [
        "Plotting the Results\n",
        "--------------------\n",
        "\n",
        "Plotting the historical loss from ``all_losses`` shows the network\n",
        "learning:\n",
        "\n",
        "\n"
      ]
    },
    {
      "cell_type": "code",
      "metadata": {
        "id": "qdcD6MmgUfyV",
        "outputId": "a3eb0e7a-97d4-4bbc-a402-2e77e5a6e30d",
        "colab": {
          "base_uri": "https://localhost:8080/",
          "height": 590
        }
      },
      "source": [
        "import matplotlib.pyplot as plt\n",
        "import matplotlib.ticker as ticker\n",
        "\n",
        "plt.figure()\n",
        "plt.plot(all_train_losses_rnn)\n",
        "plt.plot(all_train_losses_gru)\n",
        "plt.plot(all_train_losses_lstm)\n",
        "plt.title('Classifying names with a character-level RNN (Train Loss)')\n",
        "plt.ylabel('Negative Log Likelihood')\n",
        "plt.xlabel('# of 1000 iterations')\n",
        "plt.legend(['Linear', 'GRU', 'LSTM'], loc='upper right')\n",
        "\n",
        "\n",
        "plt.figure()\n",
        "plt.plot(all_validation_losses_rnn)\n",
        "plt.plot(all_validation_losses_gru)\n",
        "plt.plot(all_validation_losses_lstm)\n",
        "plt.title('Classifying names with a character-level RNN (Validation Loss)')\n",
        "plt.ylabel('Negative Log Likelihood')\n",
        "plt.xlabel('# of 1000 iterations')\n",
        "plt.legend(['Linear', 'GRU', 'LSTM'], loc='upper right')\n"
      ],
      "execution_count": null,
      "outputs": [
        {
          "output_type": "execute_result",
          "data": {
            "text/plain": [
              "<matplotlib.legend.Legend at 0x7f74c7a92b70>"
            ]
          },
          "metadata": {
            "tags": []
          },
          "execution_count": 107
        },
        {
          "output_type": "display_data",
          "data": {
            "image/png": "[encoded data removed]",
            "text/plain": [
              "<Figure size 432x288 with 1 Axes>"
            ]
          },
          "metadata": {
            "tags": [],
            "needs_background": "light"
          }
        },
        {
          "output_type": "display_data",
          "data": {
            "image/png": "[encoded data removed]",
            "text/plain": [
              "<Figure size 432x288 with 1 Axes>"
            ]
          },
          "metadata": {
            "tags": [],
            "needs_background": "light"
          }
        }
      ]
    },
    {
      "cell_type": "markdown",
      "metadata": {
        "id": "rs5yHF_cUfyY"
      },
      "source": [
        "Evaluating the Results\n",
        "======================\n",
        "\n",
        "To see how well the network performs on different categories, we will\n",
        "create a confusion matrix, indicating for every actual language (rows)\n",
        "which language the network guesses (columns). To calculate the confusion\n",
        "matrix a bunch of samples are run through the network with\n",
        "``evaluate()``, which is the same as ``train()`` minus the backprop.\n",
        "\n",
        "\n"
      ]
    },
    {
      "cell_type": "code",
      "metadata": {
        "id": "El-a2qJvUfyZ",
        "outputId": "d6b2acdc-e346-45a1-c610-722d7133ab54",
        "colab": {
          "base_uri": "https://localhost:8080/",
          "height": 337
        }
      },
      "source": [
        "# evaluate on test set and display confusion matrix RNN\n",
        "rnn = torch.load('char_rnn_classification_model.pt')\n",
        "\n",
        "confusions = eval_dataset(test_data)\n",
        "rnn_avg_test_loss, rnn_confusions = confusions[0]\n",
        "gru_avg_test_loss, gru_confusions = confusions[1]\n",
        "lstm_avg_test_loss, lstm_confusions = confusions[2]\n",
        "print('RNN Average test loss: ' + str(rnn_avg_test_loss))\n",
        "\n",
        "# Set up plot\n",
        "fig = plt.figure()\n",
        "ax = fig.add_subplot(111)\n",
        "cax = ax.matshow(rnn_confusions.numpy())\n",
        "fig.colorbar(cax)\n",
        "\n",
        "# Set up axes\n",
        "ax.set_xticklabels([''] + all_categories, rotation=90)\n",
        "ax.set_yticklabels([''] + all_categories)\n",
        "\n",
        "# Force label at every tick\n",
        "ax.xaxis.set_major_locator(ticker.MultipleLocator(1))\n",
        "ax.yaxis.set_major_locator(ticker.MultipleLocator(1))\n",
        "\n",
        "# sphinx_gallery_thumbnail_number = 2\n",
        "plt.show()"
      ],
      "execution_count": null,
      "outputs": [
        {
          "output_type": "stream",
          "text": [
            "RNN Average test loss: 1.3558658344353964\n"
          ],
          "name": "stdout"
        },
        {
          "output_type": "display_data",
          "data": {
            "image/png": "[encoded data removed]",
            "text/plain": [
              "<Figure size 432x288 with 2 Axes>"
            ]
          },
          "metadata": {
            "tags": [],
            "needs_background": "light"
          }
        }
      ]
    },
    {
      "cell_type": "code",
      "metadata": {
        "id": "3Nf5n8GZoqo4",
        "outputId": "584228c7-394c-494c-822b-2e076dfa8227",
        "colab": {
          "base_uri": "https://localhost:8080/",
          "height": 337
        }
      },
      "source": [
        "gru = torch.load('char_gru_classification_model.pt')\n",
        "\n",
        "print('GRU Average test loss: ' + str(gru_avg_test_loss))\n",
        "\n",
        "# Set up plot\n",
        "fig = plt.figure()\n",
        "ax = fig.add_subplot(111)\n",
        "cax = ax.matshow(gru_confusions.numpy())\n",
        "fig.colorbar(cax)\n",
        "\n",
        "# Set up axes\n",
        "ax.set_xticklabels([''] + all_categories, rotation=90)\n",
        "ax.set_yticklabels([''] + all_categories)\n",
        "\n",
        "# Force label at every tick\n",
        "ax.xaxis.set_major_locator(ticker.MultipleLocator(1))\n",
        "ax.yaxis.set_major_locator(ticker.MultipleLocator(1))\n",
        "\n",
        "# sphinx_gallery_thumbnail_number = 2\n",
        "plt.show()"
      ],
      "execution_count": null,
      "outputs": [
        {
          "output_type": "stream",
          "text": [
            "GRU Average test loss: 0.9380353033363878\n"
          ],
          "name": "stdout"
        },
        {
          "output_type": "display_data",
          "data": {
            "image/png": "[encoded data removed]",
            "text/plain": [
              "<Figure size 432x288 with 2 Axes>"
            ]
          },
          "metadata": {
            "tags": [],
            "needs_background": "light"
          }
        }
      ]
    },
    {
      "cell_type": "code",
      "metadata": {
        "id": "-Nzi79RdowyP",
        "outputId": "89061724-71ec-415b-9d19-2622f6eee942",
        "colab": {
          "base_uri": "https://localhost:8080/",
          "height": 337
        }
      },
      "source": [
        "lstm = torch.load('char_lstm_classification_model.pt')\n",
        "print('LSTM Average test loss: ' + str(lstm_avg_test_loss))\n",
        "# Set up plot\n",
        "fig = plt.figure()\n",
        "ax = fig.add_subplot(111)\n",
        "cax = ax.matshow(lstm_confusions.numpy())\n",
        "fig.colorbar(cax)\n",
        "\n",
        "# Set up axes\n",
        "ax.set_xticklabels([''] + all_categories, rotation=90)\n",
        "ax.set_yticklabels([''] + all_categories)\n",
        "\n",
        "# Force label at every tick\n",
        "ax.xaxis.set_major_locator(ticker.MultipleLocator(1))\n",
        "ax.yaxis.set_major_locator(ticker.MultipleLocator(1))\n",
        "\n",
        "# sphinx_gallery_thumbnail_number = 2\n",
        "plt.show()"
      ],
      "execution_count": null,
      "outputs": [
        {
          "output_type": "stream",
          "text": [
            "LSTM Average test loss: 0.984850752874042\n"
          ],
          "name": "stdout"
        },
        {
          "output_type": "display_data",
          "data": {
            "image/png": "[encoded data removed]",
            "text/plain": [
              "<Figure size 432x288 with 2 Axes>"
            ]
          },
          "metadata": {
            "tags": [],
            "needs_background": "light"
          }
        }
      ]
    },
    {
      "cell_type": "markdown",
      "metadata": {
        "id": "omv9XcTwYiJw"
      },
      "source": [
        "# Explanation\n",
        "\n",
        "GRU has the lowest average test loss, LSTM has the second lowest average test loss and the basic RNN has the highest average test lost. The same goes for the training and validation dataset. The basic RNN suffers from vanishing and exploding gradient problems.  LSTM performs better than the basic RNN because it controls memorization and forgetting in RNN, mitigates gradient vanishing and facilitate long term memory. Similarly, GRU also uses gates -- update and reset gates. Although GRU is more efficient computationally as it uses less gates than LSTM and doesn't have a cell state. Both GRU and LSTM perform similarly. Although LSTM might work better on longer sequences."
      ]
    },
    {
      "cell_type": "code",
      "metadata": {
        "id": "s7CzORmcYjQq"
      },
      "source": [
        ""
      ],
      "execution_count": null,
      "outputs": []
    }
  ]
}