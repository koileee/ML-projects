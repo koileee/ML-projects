{
  "nbformat": 4,
  "nbformat_minor": 0,
  "metadata": {
    "kernelspec": {
      "display_name": "Python 3",
      "language": "python",
      "name": "python3"
    },
    "language_info": {
      "codemirror_mode": {
        "name": "ipython",
        "version": 3
      },
      "file_extension": ".py",
      "mimetype": "text/x-python",
      "name": "python",
      "nbconvert_exporter": "python",
      "pygments_lexer": "ipython3",
      "version": "3.7.6"
    },
    "papermill": {
      "duration": 2575.101001,
      "end_time": "2020-12-07T04:27:57.892205",
      "environment_variables": {},
      "exception": null,
      "input_path": "__notebook__.ipynb",
      "output_path": "__notebook__.ipynb",
      "parameters": {},
      "start_time": "2020-12-07T03:45:02.791204",
      "version": "2.1.0"
    },
    "colab": {
      "name": "kagglecompetition-2.ipynb",
      "provenance": [],
      "collapsed_sections": []
    }
  },
  "cells": [
    {
      "cell_type": "markdown",
      "metadata": {
        "id": "81NI0tCqtRBW"
      },
      "source": [
        "This was ran in the kaggle environment. It's a kaggle notebook\n"
      ]
    },
    {
      "cell_type": "code",
      "metadata": {
        "_cell_guid": "b1076dfc-b9ad-4769-8c92-a6c4dae69d19",
        "_uuid": "8f2839f25d086af736a60e9eeb907d3b93b6e0e5",
        "execution": {
          "iopub.execute_input": "2020-12-07T03:45:11.279573Z",
          "iopub.status.busy": "2020-12-07T03:45:11.278205Z",
          "iopub.status.idle": "2020-12-07T03:45:11.284838Z",
          "shell.execute_reply": "2020-12-07T03:45:11.283684Z"
        },
        "papermill": {
          "duration": 0.038145,
          "end_time": "2020-12-07T03:45:11.285064",
          "exception": false,
          "start_time": "2020-12-07T03:45:11.246919",
          "status": "completed"
        },
        "tags": [],
        "id": "KozFU2OFxNFq"
      },
      "source": [
        "# This Python 3 environment comes with many helpful analytics libraries installed\n",
        "# It is defined by the kaggle/python Docker image: https://github.com/kaggle/docker-python\n",
        "# For example, here's several helpful packages to load\n",
        "\n",
        "import numpy as np # linear algebra\n",
        "import pandas as pd # data processing, CSV file I/O (e.g. pd.read_csv)\n",
        "\n",
        "# Input data files are available in the read-only \"../input/\" directory\n",
        "# For example, running this (by clicking run or pressing Shift+Enter) will list all files under the input directory\n",
        "\n",
        "import os\n",
        "# for dirname, _, filenames in os.walk('/kaggle/input'):\n",
        "#     for filename in filenames:\n",
        "#         print(os.path.join(dirname, filename))\n",
        "\n",
        "# You can write up to 20GB to the current directory (/kaggle/working/) that gets preserved as output when you create a version using \"Save & Run All\" \n",
        "# You can also write temporary files to /kaggle/temp/, but they won't be saved outside of the current session"
      ],
      "execution_count": null,
      "outputs": []
    },
    {
      "cell_type": "code",
      "metadata": {
        "_cell_guid": "79c7e3d0-c299-4dcb-8224-4455121ee9b0",
        "_uuid": "d629ff2d2480ee46fbb7e2d37f6b5fab8052498a",
        "execution": {
          "iopub.execute_input": "2020-12-07T03:45:11.339729Z",
          "iopub.status.busy": "2020-12-07T03:45:11.336399Z",
          "iopub.status.idle": "2020-12-07T03:45:24.769430Z",
          "shell.execute_reply": "2020-12-07T03:45:24.768489Z"
        },
        "papermill": {
          "duration": 13.463597,
          "end_time": "2020-12-07T03:45:24.769629",
          "exception": false,
          "start_time": "2020-12-07T03:45:11.306032",
          "status": "completed"
        },
        "tags": [],
        "id": "WWDmKy78xNFq"
      },
      "source": [
        "import keras\n",
        "from keras import layers, regularizers, optimizers\n",
        "from keras.datasets import cifar10\n",
        "from keras.preprocessing.image import ImageDataGenerator\n",
        "from keras.models import Sequential, Model, load_model\n",
        "from keras.layers import Dense, Add, Flatten, Input, Activation, Embedding, Conv1D, GlobalMaxPooling1D, Dropout, Lambda, concatenate\n",
        "from keras.layers import Conv2D, MaxPooling2D\n",
        "from keras.callbacks import ModelCheckpoint\n",
        "from keras.preprocessing import image\n",
        "from keras.preprocessing.sequence import pad_sequences\n",
        "from keras.utils import to_categorical\n",
        "from keras.preprocessing.text import Tokenizer\n",
        "from sklearn.model_selection import train_test_split\n",
        "import keras.backend as K\n",
        "import re\n",
        "import math\n",
        "import matplotlib.pyplot as plt\n",
        "from tqdm import tqdm"
      ],
      "execution_count": null,
      "outputs": []
    },
    {
      "cell_type": "markdown",
      "metadata": {
        "papermill": {
          "duration": 0.016803,
          "end_time": "2020-12-07T03:45:24.803578",
          "exception": false,
          "start_time": "2020-12-07T03:45:24.786775",
          "status": "completed"
        },
        "tags": [],
        "id": "uqcE-nixxNFq"
      },
      "source": [
        "# **Preprocessing Data**"
      ]
    },
    {
      "cell_type": "code",
      "metadata": {
        "execution": {
          "iopub.execute_input": "2020-12-07T03:45:24.850059Z",
          "iopub.status.busy": "2020-12-07T03:45:24.848932Z",
          "iopub.status.idle": "2020-12-07T03:45:25.074732Z",
          "shell.execute_reply": "2020-12-07T03:45:25.073357Z"
        },
        "papermill": {
          "duration": 0.254732,
          "end_time": "2020-12-07T03:45:25.075024",
          "exception": false,
          "start_time": "2020-12-07T03:45:24.820292",
          "status": "completed"
        },
        "tags": [],
        "id": "OH5z6Ui3xNFq"
      },
      "source": [
        "train = pd.read_csv('/kaggle/input/uw-cs480-fall20/train.csv')\n",
        "test= pd.read_csv('/kaggle/input/uw-cs480-fall20/test.csv')\n",
        "labels = train.category.factorize()\n",
        "y = to_categorical(labels[0])\n",
        "X_train, X_validation, y_train, y_validation = train_test_split(train, y, random_state=10, test_size=0.10)"
      ],
      "execution_count": null,
      "outputs": []
    },
    {
      "cell_type": "code",
      "metadata": {
        "execution": {
          "iopub.execute_input": "2020-12-07T03:45:25.120584Z",
          "iopub.status.busy": "2020-12-07T03:45:25.119144Z",
          "iopub.status.idle": "2020-12-07T03:45:25.132428Z",
          "shell.execute_reply": "2020-12-07T03:45:25.131371Z"
        },
        "papermill": {
          "duration": 0.039862,
          "end_time": "2020-12-07T03:45:25.132632",
          "exception": false,
          "start_time": "2020-12-07T03:45:25.092770",
          "status": "completed"
        },
        "tags": [],
        "id": "YUHiNA6hxNFq"
      },
      "source": [
        "X_train, X_validation = X_train.reset_index(), X_validation.reset_index()\n"
      ],
      "execution_count": null,
      "outputs": []
    },
    {
      "cell_type": "code",
      "metadata": {
        "execution": {
          "iopub.execute_input": "2020-12-07T03:45:25.186677Z",
          "iopub.status.busy": "2020-12-07T03:45:25.181204Z",
          "iopub.status.idle": "2020-12-07T03:49:58.122202Z",
          "shell.execute_reply": "2020-12-07T03:49:58.121269Z"
        },
        "papermill": {
          "duration": 272.972938,
          "end_time": "2020-12-07T03:49:58.122376",
          "exception": false,
          "start_time": "2020-12-07T03:45:25.149438",
          "status": "completed"
        },
        "tags": [],
        "id": "-rXkvYBIxNFq",
        "outputId": "f79848ab-8b04-4fdb-b675-888e75677c17"
      },
      "source": [
        "train_image = []\n",
        "validation_image=[]\n",
        "test_image = []\n",
        "for i in tqdm(range(X_train.shape[0])):\n",
        "    img = image.load_img('/kaggle/input/uw-cs480-fall20/suffled-images/shuffled-images/'+X_train['id'][i].astype('str')+'.jpg', target_size=(32,32,3), grayscale=False)\n",
        "    img = image.img_to_array(img)\n",
        "    img = img/255\n",
        "    train_image.append(img)\n",
        "for i in tqdm(range(X_validation.shape[0])):\n",
        "    img = image.load_img('/kaggle/input/uw-cs480-fall20/suffled-images/shuffled-images/'+X_validation['id'][i].astype('str')+'.jpg', target_size=(32,32,3), grayscale=False)\n",
        "    img = image.img_to_array(img)\n",
        "    img = img/255\n",
        "    validation_image.append(img)\n",
        "for i in tqdm(range(test.shape[0])):\n",
        "    img = image.load_img('/kaggle/input/uw-cs480-fall20/suffled-images/shuffled-images/'+test['id'][i].astype('str')+'.jpg', target_size=(32,32,3), grayscale=False)\n",
        "    img = image.img_to_array(img)\n",
        "    img = img/255\n",
        "    test_image.append(img)\n",
        "\n",
        "X_test_image= np.array(test_image)\n",
        "X_train_image = np.array(train_image)\n",
        "X_validation_image = np.array(validation_image)"
      ],
      "execution_count": null,
      "outputs": [
        {
          "output_type": "stream",
          "text": [
            "100%|██████████| 19464/19464 [02:00<00:00, 161.29it/s]\n",
            "100%|██████████| 2163/2163 [00:12<00:00, 166.80it/s]\n",
            "100%|██████████| 21628/21628 [02:18<00:00, 155.74it/s]\n"
          ],
          "name": "stderr"
        }
      ]
    },
    {
      "cell_type": "markdown",
      "metadata": {
        "papermill": {
          "duration": 1.061302,
          "end_time": "2020-12-07T03:50:00.323954",
          "exception": false,
          "start_time": "2020-12-07T03:49:59.262652",
          "status": "completed"
        },
        "tags": [],
        "id": "nHvyKj1ixNFq"
      },
      "source": [
        "# Using both Text and Image"
      ]
    },
    {
      "cell_type": "markdown",
      "metadata": {
        "papermill": {
          "duration": 1.078346,
          "end_time": "2020-12-07T03:50:02.461984",
          "exception": false,
          "start_time": "2020-12-07T03:50:01.383638",
          "status": "completed"
        },
        "tags": [],
        "id": "q4jgFYL0xNFq"
      },
      "source": [
        "### Text Processing"
      ]
    },
    {
      "cell_type": "code",
      "metadata": {
        "execution": {
          "iopub.execute_input": "2020-12-07T03:50:04.611442Z",
          "iopub.status.busy": "2020-12-07T03:50:04.610423Z",
          "iopub.status.idle": "2020-12-07T03:50:04.614824Z",
          "shell.execute_reply": "2020-12-07T03:50:04.613887Z"
        },
        "papermill": {
          "duration": 1.076345,
          "end_time": "2020-12-07T03:50:04.615008",
          "exception": false,
          "start_time": "2020-12-07T03:50:03.538663",
          "status": "completed"
        },
        "tags": [],
        "id": "MRabv5g1xNFs"
      },
      "source": [
        "import re\n",
        "def clean_text(data):\n",
        "    n = len(data)\n",
        "    for i in range(n):\n",
        "        data[i]=data[i].lower()\n",
        "        data[i]=re.sub('[^A-Za-z\" \"]+', '', data[i])\n",
        "        data[i]=data[i].rstrip()\n",
        "    return data"
      ],
      "execution_count": null,
      "outputs": []
    },
    {
      "cell_type": "code",
      "metadata": {
        "execution": {
          "iopub.execute_input": "2020-12-07T03:50:06.798347Z",
          "iopub.status.busy": "2020-12-07T03:50:06.797416Z",
          "iopub.status.idle": "2020-12-07T03:50:34.468838Z",
          "shell.execute_reply": "2020-12-07T03:50:34.467873Z"
        },
        "papermill": {
          "duration": 28.790858,
          "end_time": "2020-12-07T03:50:34.469013",
          "exception": false,
          "start_time": "2020-12-07T03:50:05.678155",
          "status": "completed"
        },
        "tags": [],
        "id": "jqEkQRp4xNFs",
        "outputId": "47baf39c-67f0-4da0-d62e-ca50e9953821"
      },
      "source": [
        "# Get clean text data\n",
        "X_train_text= X_train[\"noisyTextDescription\"]\n",
        "X_train_text = clean_text(X_train_text)\n",
        "X_validation_text= X_validation[\"noisyTextDescription\"]\n",
        "X_validation_text = clean_text(X_validation_text)\n",
        "X_test_text= test[\"noisyTextDescription\"]\n",
        "X_test_text = clean_text(X_test_text)"
      ],
      "execution_count": null,
      "outputs": [
        {
          "output_type": "stream",
          "text": [
            "/opt/conda/lib/python3.7/site-packages/ipykernel_launcher.py:5: SettingWithCopyWarning: \n",
            "A value is trying to be set on a copy of a slice from a DataFrame\n",
            "\n",
            "See the caveats in the documentation: https://pandas.pydata.org/pandas-docs/stable/user_guide/indexing.html#returning-a-view-versus-a-copy\n",
            "  \"\"\"\n",
            "/opt/conda/lib/python3.7/site-packages/ipykernel_launcher.py:6: SettingWithCopyWarning: \n",
            "A value is trying to be set on a copy of a slice from a DataFrame\n",
            "\n",
            "See the caveats in the documentation: https://pandas.pydata.org/pandas-docs/stable/user_guide/indexing.html#returning-a-view-versus-a-copy\n",
            "  \n",
            "/opt/conda/lib/python3.7/site-packages/ipykernel_launcher.py:7: SettingWithCopyWarning: \n",
            "A value is trying to be set on a copy of a slice from a DataFrame\n",
            "\n",
            "See the caveats in the documentation: https://pandas.pydata.org/pandas-docs/stable/user_guide/indexing.html#returning-a-view-versus-a-copy\n",
            "  import sys\n"
          ],
          "name": "stderr"
        }
      ]
    },
    {
      "cell_type": "code",
      "metadata": {
        "execution": {
          "iopub.execute_input": "2020-12-07T03:50:36.634047Z",
          "iopub.status.busy": "2020-12-07T03:50:36.628779Z",
          "iopub.status.idle": "2020-12-07T03:50:37.021207Z",
          "shell.execute_reply": "2020-12-07T03:50:37.020016Z"
        },
        "papermill": {
          "duration": 1.475453,
          "end_time": "2020-12-07T03:50:37.021452",
          "exception": false,
          "start_time": "2020-12-07T03:50:35.545999",
          "status": "completed"
        },
        "tags": [],
        "id": "oUE-uv8ExNFs"
      },
      "source": [
        "# TOKENIZING Text\n",
        "# The maximum number of words to be used.\n",
        "MAX_NB_WORDS = 5000\n",
        "# Max number of words in each name.\n",
        "MAX_SEQUENCE_LENGTH = 10\n",
        "# Generating Word tokens\n",
        "tokenizer = Tokenizer(num_words=MAX_NB_WORDS, filters='!\"#$%&()*+,-./:;<=>?@[\\]^_`{|}~', lower=True)\n",
        "tokenizer.fit_on_texts(X_train_text)\n",
        "word_index = tokenizer.word_index"
      ],
      "execution_count": null,
      "outputs": []
    },
    {
      "cell_type": "code",
      "metadata": {
        "execution": {
          "iopub.execute_input": "2020-12-07T03:50:39.387318Z",
          "iopub.status.busy": "2020-12-07T03:50:39.376772Z",
          "iopub.status.idle": "2020-12-07T03:50:40.431216Z",
          "shell.execute_reply": "2020-12-07T03:50:40.430261Z"
        },
        "papermill": {
          "duration": 2.262903,
          "end_time": "2020-12-07T03:50:40.431384",
          "exception": false,
          "start_time": "2020-12-07T03:50:38.168481",
          "status": "completed"
        },
        "tags": [],
        "id": "_bARisrMxNFt"
      },
      "source": [
        "X_train_text = tokenizer.texts_to_sequences(X_train_text) # Here it takes each word from names and replaces it with it's corresponding number from our word_index\n",
        "X_train_text = pad_sequences(X_train_text, maxlen=MAX_SEQUENCE_LENGTH) # it transforms list of sequences into numpy aray of shape (num_sequence,num_timestep) \n",
        "X_validation_text = tokenizer.texts_to_sequences(X_validation_text) # Here it takes each word from names and replaces it with it's corresponding number from our word_index\n",
        "X_validation_text = pad_sequences(X_validation_text, maxlen=MAX_SEQUENCE_LENGTH) \n",
        "X_test_text = tokenizer.texts_to_sequences(X_test_text) # Here it takes each word from names and replaces it with it's corresponding number from our word_index\n",
        "X_test_text = pad_sequences(X_test_text, maxlen=MAX_SEQUENCE_LENGTH) \n"
      ],
      "execution_count": null,
      "outputs": []
    },
    {
      "cell_type": "code",
      "metadata": {
        "execution": {
          "iopub.execute_input": "2020-12-07T03:50:45.060959Z",
          "iopub.status.busy": "2020-12-07T03:50:45.057170Z",
          "iopub.status.idle": "2020-12-07T03:50:45.151971Z",
          "shell.execute_reply": "2020-12-07T03:50:45.151230Z"
        },
        "papermill": {
          "duration": 1.17061,
          "end_time": "2020-12-07T03:50:45.152144",
          "exception": false,
          "start_time": "2020-12-07T03:50:43.981534",
          "status": "completed"
        },
        "tags": [],
        "id": "VRgRuJ2NxNFt"
      },
      "source": [
        "## Creating textmodel \n",
        "EMBEDDING_DIM = 30\n",
        "textmodel=Sequential()\n",
        "# we start off with an efficient embedding layer which maps\n",
        "# our vocab indices into embedding_dims dimensions\n",
        "textmodel.add(Embedding(MAX_NB_WORDS,EMBEDDING_DIM,input_length=X_train_text.shape[1]))\n",
        "textmodel.add(Dropout(0.2))\n",
        "# we add a Convolution1D, which will learn filters\n",
        "# word group filters of size filter_length:\n",
        "textmodel.add(Conv1D(256,\n",
        "                 5,\n",
        "                 padding='valid',\n",
        "                 activation='relu',\n",
        "                 strides=1))\n",
        "# we use max pooling:\n",
        "textmodel.add(GlobalMaxPooling1D())\n",
        "\n",
        "# We add a Fully Connected hidden layer:\n",
        "textmodel.add(Dense(512))\n",
        "textmodel.add(Dropout(0.2))\n",
        "textmodel.add(Activation('relu'))"
      ],
      "execution_count": null,
      "outputs": []
    },
    {
      "cell_type": "markdown",
      "metadata": {
        "id": "gnHjKkFHxWFs"
      },
      "source": [
        "### Image Processing"
      ]
    },
    {
      "cell_type": "code",
      "metadata": {
        "execution": {
          "iopub.execute_input": "2020-12-07T03:50:42.607208Z",
          "iopub.status.busy": "2020-12-07T03:50:42.605474Z",
          "iopub.status.idle": "2020-12-07T03:50:42.909244Z",
          "shell.execute_reply": "2020-12-07T03:50:42.908425Z"
        },
        "papermill": {
          "duration": 1.404873,
          "end_time": "2020-12-07T03:50:42.909425",
          "exception": false,
          "start_time": "2020-12-07T03:50:41.504552",
          "status": "completed"
        },
        "tags": [],
        "id": "2BEJqOyFxNFt"
      },
      "source": [
        "activation=\"relu\"\n",
        "size=3\n",
        "model_image = Sequential()\n",
        "model_image.add(Conv2D(32, (size, size), padding='same',input_shape=(32,32,3)))\n",
        "model_image.add(Activation(activation))\n",
        "model_image.add(Conv2D(32, (size, size), padding='same'))\n",
        "model_image.add(Activation(activation))\n",
        "model_image.add(MaxPooling2D(pool_size=(2, 2)))\n",
        "model_image.add(Dropout(0.25))\n",
        "model_image.add(Conv2D(64, (size, size), padding='same'))\n",
        "model_image.add(Activation(activation))\n",
        "model_image.add(Conv2D(64, (size, size), padding='same'))\n",
        "model_image.add(Activation(activation))\n",
        "model_image.add(MaxPooling2D(pool_size=(2, 2)))\n",
        "model_image.add(Dropout(0.25))\n",
        "model_image.add(Flatten())"
      ],
      "execution_count": null,
      "outputs": []
    },
    {
      "cell_type": "markdown",
      "metadata": {
        "id": "zfk-akPDxb0I"
      },
      "source": [
        "### Final "
      ]
    },
    {
      "cell_type": "code",
      "metadata": {
        "execution": {
          "iopub.execute_input": "2020-12-07T03:50:47.332794Z",
          "iopub.status.busy": "2020-12-07T03:50:47.331242Z",
          "iopub.status.idle": "2020-12-07T03:50:47.367304Z",
          "shell.execute_reply": "2020-12-07T03:50:47.367922Z"
        },
        "papermill": {
          "duration": 1.113229,
          "end_time": "2020-12-07T03:50:47.368141",
          "exception": false,
          "start_time": "2020-12-07T03:50:46.254912",
          "status": "completed"
        },
        "tags": [],
        "id": "7j0_zWXLxNFt"
      },
      "source": [
        "merged=concatenate([model_image.output,textmodel.output]) ## Merging both the models\n",
        "out=Dense(27)(merged) ## Adding a Dense layer to merged layers\n",
        "out=Activation('softmax')(out) ## Adding activation softmax for classification\n",
        "final_model=Model([model_image.input,textmodel.input],out) ## Final model which we will use for classification"
      ],
      "execution_count": null,
      "outputs": []
    },
    {
      "cell_type": "code",
      "metadata": {
        "execution": {
          "iopub.execute_input": "2020-12-07T03:50:49.499702Z",
          "iopub.status.busy": "2020-12-07T03:50:49.498533Z",
          "iopub.status.idle": "2020-12-07T03:50:49.515009Z",
          "shell.execute_reply": "2020-12-07T03:50:49.514053Z"
        },
        "papermill": {
          "duration": 1.082899,
          "end_time": "2020-12-07T03:50:49.515179",
          "exception": false,
          "start_time": "2020-12-07T03:50:48.432280",
          "status": "completed"
        },
        "tags": [],
        "id": "gzASVWofxNFt"
      },
      "source": [
        "final_model.compile(loss='categorical_crossentropy',optimizer=\"Adam\",metrics=['accuracy'])"
      ],
      "execution_count": null,
      "outputs": []
    },
    {
      "cell_type": "code",
      "metadata": {
        "execution": {
          "iopub.execute_input": "2020-12-07T03:50:51.667802Z",
          "iopub.status.busy": "2020-12-07T03:50:51.666695Z",
          "iopub.status.idle": "2020-12-07T04:27:14.849341Z",
          "shell.execute_reply": "2020-12-07T04:27:14.805751Z"
        },
        "papermill": {
          "duration": 2184.268198,
          "end_time": "2020-12-07T04:27:14.849640",
          "exception": false,
          "start_time": "2020-12-07T03:50:50.581442",
          "status": "completed"
        },
        "tags": [],
        "id": "dZnaGW6vxNFt",
        "outputId": "f290389e-a5d8-485e-fde9-01b4912f7a69"
      },
      "source": [
        "final_model.fit([X_train_image,X_train_text],y_train,epochs=30, validation_data=([X_validation_image, X_validation_text], y_validation))"
      ],
      "execution_count": null,
      "outputs": [
        {
          "output_type": "stream",
          "text": [
            "Epoch 1/30\n",
            "609/609 [==============================] - 74s 122ms/step - loss: 0.6686 - accuracy: 0.8191 - val_loss: 0.2458 - val_accuracy: 0.9334\n",
            "Epoch 2/30\n",
            "609/609 [==============================] - 73s 119ms/step - loss: 0.1806 - accuracy: 0.9511 - val_loss: 0.1849 - val_accuracy: 0.9538\n",
            "Epoch 3/30\n",
            "609/609 [==============================] - 73s 119ms/step - loss: 0.0905 - accuracy: 0.9765 - val_loss: 0.1903 - val_accuracy: 0.9505\n",
            "Epoch 4/30\n",
            "609/609 [==============================] - 74s 121ms/step - loss: 0.0578 - accuracy: 0.9842 - val_loss: 0.2012 - val_accuracy: 0.9519\n",
            "Epoch 5/30\n",
            "609/609 [==============================] - 74s 122ms/step - loss: 0.0419 - accuracy: 0.9888 - val_loss: 0.2405 - val_accuracy: 0.9478\n",
            "Epoch 6/30\n",
            "609/609 [==============================] - 74s 122ms/step - loss: 0.0306 - accuracy: 0.9903 - val_loss: 0.2381 - val_accuracy: 0.9487\n",
            "Epoch 7/30\n",
            "609/609 [==============================] - 73s 120ms/step - loss: 0.0260 - accuracy: 0.9929 - val_loss: 0.2556 - val_accuracy: 0.9427\n",
            "Epoch 8/30\n",
            "609/609 [==============================] - 73s 121ms/step - loss: 0.0207 - accuracy: 0.9937 - val_loss: 0.2787 - val_accuracy: 0.9542\n",
            "Epoch 9/30\n",
            "609/609 [==============================] - 74s 122ms/step - loss: 0.0176 - accuracy: 0.9949 - val_loss: 0.2938 - val_accuracy: 0.9464\n",
            "Epoch 10/30\n",
            "609/609 [==============================] - 73s 120ms/step - loss: 0.0180 - accuracy: 0.9942 - val_loss: 0.3256 - val_accuracy: 0.9496\n",
            "Epoch 11/30\n",
            "609/609 [==============================] - 73s 120ms/step - loss: 0.0169 - accuracy: 0.9943 - val_loss: 0.3114 - val_accuracy: 0.9436\n",
            "Epoch 12/30\n",
            "609/609 [==============================] - 74s 122ms/step - loss: 0.0190 - accuracy: 0.9942 - val_loss: 0.3135 - val_accuracy: 0.9501\n",
            "Epoch 13/30\n",
            "609/609 [==============================] - 74s 121ms/step - loss: 0.0111 - accuracy: 0.9966 - val_loss: 0.3402 - val_accuracy: 0.9491\n",
            "Epoch 14/30\n",
            "609/609 [==============================] - 75s 123ms/step - loss: 0.0115 - accuracy: 0.9967 - val_loss: 0.3589 - val_accuracy: 0.9482\n",
            "Epoch 15/30\n",
            "609/609 [==============================] - 72s 119ms/step - loss: 0.0114 - accuracy: 0.9960 - val_loss: 0.3758 - val_accuracy: 0.9478\n",
            "Epoch 16/30\n",
            "609/609 [==============================] - 72s 118ms/step - loss: 0.0134 - accuracy: 0.9959 - val_loss: 0.3511 - val_accuracy: 0.9468\n",
            "Epoch 17/30\n",
            "609/609 [==============================] - 71s 117ms/step - loss: 0.0105 - accuracy: 0.9968 - val_loss: 0.3633 - val_accuracy: 0.9367\n",
            "Epoch 18/30\n",
            "609/609 [==============================] - 71s 116ms/step - loss: 0.0113 - accuracy: 0.9962 - val_loss: 0.3844 - val_accuracy: 0.9427\n",
            "Epoch 19/30\n",
            "609/609 [==============================] - 71s 117ms/step - loss: 0.0066 - accuracy: 0.9975 - val_loss: 0.3851 - val_accuracy: 0.9561\n",
            "Epoch 20/30\n",
            "609/609 [==============================] - 71s 117ms/step - loss: 0.0080 - accuracy: 0.9977 - val_loss: 0.3789 - val_accuracy: 0.9556\n",
            "Epoch 21/30\n",
            "609/609 [==============================] - 71s 117ms/step - loss: 0.0097 - accuracy: 0.9975 - val_loss: 0.3794 - val_accuracy: 0.9547\n",
            "Epoch 22/30\n",
            "609/609 [==============================] - 71s 117ms/step - loss: 0.0114 - accuracy: 0.9970 - val_loss: 0.3926 - val_accuracy: 0.9556\n",
            "Epoch 23/30\n",
            "609/609 [==============================] - 71s 117ms/step - loss: 0.0115 - accuracy: 0.9971 - val_loss: 0.4176 - val_accuracy: 0.9496\n",
            "Epoch 24/30\n",
            "609/609 [==============================] - 72s 118ms/step - loss: 0.0065 - accuracy: 0.9982 - val_loss: 0.4535 - val_accuracy: 0.9538\n",
            "Epoch 25/30\n",
            "609/609 [==============================] - 72s 118ms/step - loss: 0.0079 - accuracy: 0.9977 - val_loss: 0.5067 - val_accuracy: 0.9436\n",
            "Epoch 26/30\n",
            "609/609 [==============================] - 71s 116ms/step - loss: 0.0082 - accuracy: 0.9977 - val_loss: 0.5171 - val_accuracy: 0.9450\n",
            "Epoch 27/30\n",
            "609/609 [==============================] - 71s 117ms/step - loss: 0.0064 - accuracy: 0.9983 - val_loss: 0.5460 - val_accuracy: 0.9464\n",
            "Epoch 28/30\n",
            "609/609 [==============================] - 72s 118ms/step - loss: 0.0087 - accuracy: 0.9976 - val_loss: 0.5212 - val_accuracy: 0.9496\n",
            "Epoch 29/30\n",
            "609/609 [==============================] - 72s 118ms/step - loss: 0.0067 - accuracy: 0.9978 - val_loss: 0.4872 - val_accuracy: 0.9501\n",
            "Epoch 30/30\n",
            "609/609 [==============================] - 70s 115ms/step - loss: 0.0075 - accuracy: 0.9977 - val_loss: 0.5535 - val_accuracy: 0.9524\n"
          ],
          "name": "stdout"
        },
        {
          "output_type": "execute_result",
          "data": {
            "text/plain": [
              "<tensorflow.python.keras.callbacks.History at 0x7f36cd378cd0>"
            ]
          },
          "metadata": {
            "tags": []
          },
          "execution_count": 14
        }
      ]
    },
    {
      "cell_type": "markdown",
      "metadata": {
        "id": "VTj4cvlRxqqV"
      },
      "source": [
        "### Predictions"
      ]
    },
    {
      "cell_type": "code",
      "metadata": {
        "execution": {
          "iopub.execute_input": "2020-12-07T04:27:33.253401Z",
          "iopub.status.busy": "2020-12-07T04:27:33.252445Z",
          "iopub.status.idle": "2020-12-07T04:27:48.952991Z",
          "shell.execute_reply": "2020-12-07T04:27:48.952122Z"
        },
        "papermill": {
          "duration": 25.499083,
          "end_time": "2020-12-07T04:27:48.953152",
          "exception": false,
          "start_time": "2020-12-07T04:27:23.454069",
          "status": "completed"
        },
        "tags": [],
        "id": "fYouBvyCxNFt"
      },
      "source": [
        "prediction3 = final_model.predict([X_test_image, X_test_text])\n",
        "prediction3 = np.argmax(prediction3,axis=1)\n",
        "predictions3 = labels[1][prediction3]\n",
        "submission3 = pd.DataFrame({'id':test['id'],'category':predictions3})\n",
        "submission3.to_csv('20603929_li.csv', header=True, index=False)"
      ],
      "execution_count": null,
      "outputs": []
    }
  ]
}