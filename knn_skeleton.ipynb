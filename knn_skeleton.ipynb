{
 "cells": [
  {
   "cell_type": "markdown",
   "metadata": {
    "colab_type": "text",
    "id": "JFXZug066bJX"
   },
   "source": [
    "# Upload files in Google Colab\n",
    "If you are running this Jupyter Notebook on Google Colab, run this cell to upload the data files (train_inputs.csv, train_labels.csv, test_inputs.csv, test_labels.csv) in the Colab virtual machine.  You will be prompted to select files that you would like to upload. \n",
    "\n",
    "If you are running this Jupyter Notebook on your computer, you do not need to run this cell."
   ]
  },
  {
   "cell_type": "code",
   "execution_count": null,
   "metadata": {
    "colab": {},
    "colab_type": "code",
    "id": "dqBJV_Br4XeI"
   },
   "outputs": [],
   "source": [
    "from google.colab import files\n",
    "uploaded = files.upload()\n",
    "%ls"
   ]
  },
  {
   "cell_type": "markdown",
   "metadata": {
    "colab_type": "text",
    "id": "LZDpxE4jmFwA"
   },
   "source": [
    "# Import libraries \n",
    "Do not use any other Python library."
   ]
  },
  {
   "cell_type": "code",
   "execution_count": 1,
   "metadata": {
    "colab": {},
    "colab_type": "code",
    "id": "m_1d0BPfmacB"
   },
   "outputs": [],
   "source": [
    "import numpy as np\n",
    "import matplotlib.pyplot as plt"
   ]
  },
  {
   "cell_type": "markdown",
   "metadata": {
    "colab_type": "text",
    "id": "NYesJygrmgHM"
   },
   "source": [
    "# Function: load_knn_data\n",
    "\n",
    "This function loads the data for KNN from a local drive into RAM\n",
    "\n",
    "Outputs:\n",
    "\n",
    "*   **train_inputs**: numpy array of N training data points x M features\n",
    "*   **train_labels**: numpy array of N training labels\n",
    "*   **test_inputs**: numpy array of N' test data points x M features\n",
    "*   **test_labels**: numpy array of N' test labels\n",
    "\n",
    "\n",
    "\n",
    "\n",
    "  \n",
    "\n"
   ]
  },
  {
   "cell_type": "code",
   "execution_count": 2,
   "metadata": {
    "colab": {},
    "colab_type": "code",
    "id": "7goFIgwnomoo"
   },
   "outputs": [],
   "source": [
    "def load_knn_data():\n",
    "  test_inputs = np.genfromtxt('test_inputs.csv', delimiter=',')\n",
    "  test_labels = np.genfromtxt('test_labels.csv', delimiter=',')\n",
    "  train_inputs = np.genfromtxt('train_inputs.csv', delimiter=',')\n",
    "  train_labels = np.genfromtxt('train_labels.csv', delimiter=',')\n",
    "  return train_inputs, train_labels, test_inputs, test_labels"
   ]
  },
  {
   "cell_type": "markdown",
   "metadata": {
    "colab_type": "text",
    "id": "Y87Mnf21owf0"
   },
   "source": [
    "# Function: predict_knn\n",
    "\n",
    "This function uses the KNN classifier to predict the label of a data point.\n",
    "\n",
    "Inputs:\n",
    "*   **x**: input data point for which we want to predict the label (numpy array of M features)\n",
    "*   **inputs**: matrix of data points in which neighbours will be found (numpy array of N data points x M features)\n",
    "*   **labels**: vector of labels associated with the data points  (numpy array of N labels)\n",
    "*   **k_neighbours**: # of nearest neighbours that will be used\n",
    "\n",
    "Output:\n",
    "*   **predicted_label**: predicted label (integer)\n",
    "\n",
    "\n"
   ]
  },
  {
   "cell_type": "code",
   "execution_count": 49,
   "metadata": {
    "colab": {},
    "colab_type": "code",
    "id": "MNXK7L5wpOEa"
   },
   "outputs": [],
   "source": [
    "def predict_knn(x, inputs, labels, k_neighbours):\n",
    "    result_dist = np.sum(np.square(x - inputs), axis = 1)\n",
    "    result = np.stack((labels, result_dist), axis = 1)\n",
    "    result = result[result[:,1].argsort()][:k_neighbours]\n",
    "    sixes = np.count_nonzero(result[:, 0] == 6)\n",
    "    fives = np.count_nonzero(result[:, 0] == 5)\n",
    "    if sixes > fives:\n",
    "        return 6\n",
    "    elif sixes < fives:\n",
    "        return 5\n",
    "    else:\n",
    "        return result[0][0]"
   ]
  },
  {
   "cell_type": "markdown",
   "metadata": {
    "colab_type": "text",
    "id": "I7bIamtprLxK"
   },
   "source": [
    "# Function: eval_knn\n",
    "\n",
    "Function that evaluates the accuracy of the KNN classifier on a dataset.  The dataset to be evaluated consists of (inputs, labels).  The dataset used to find nearest neighbours consists of (train_inputs, train_labels).\n",
    "\n",
    "Inputs:\n",
    "*   **inputs**: matrix of input data points to be evaluated (numpy array of N data points x M features)\n",
    "*   **labels**: vector of target labels for the inputs (numpy array of N labels)\n",
    "*   **train_inputs**: matrix of input data points in which neighbours will be found (numpy array of N' data points x M features)\n",
    "*   **train_labels**: vector of labels for the training inputs (numpy array of N' labels)\n",
    "*   **k_neighbours**: # of nearest neighbours to be used (integer)\n",
    "\n",
    "Outputs:\n",
    "*   **accuracy**: percentage of correctly labeled data points (float)\n",
    "\n",
    "\n"
   ]
  },
  {
   "cell_type": "code",
   "execution_count": 17,
   "metadata": {
    "colab": {},
    "colab_type": "code",
    "id": "MCQe7L8XrjdI"
   },
   "outputs": [],
   "source": [
    "def eval_knn(inputs, labels, train_inputs, train_labels, k_neighbours):\n",
    "    pred_labels=np.zeros((labels.shape[0]))\n",
    "    for i in range(len(inputs)):\n",
    "        pred_labels[i] = predict_knn(inputs[i], train_inputs, train_labels, k_neighbours)\n",
    "    numerator = np.sum(pred_labels==labels)\n",
    "    return numerator/len(labels)"
   ]
  },
  {
   "cell_type": "markdown",
   "metadata": {
    "colab_type": "text",
    "id": "rXNO9nXb1beV"
   },
   "source": [
    "# Function: cross_validation_knn\n",
    "\n",
    "This function performs k-fold cross validation to determine the best number of neighbours for KNN.\n",
    "\n",
    "Inputs:\n",
    "*   **k_folds**: # of folds in cross-validation (integer)\n",
    "*   **hyperparameters**: list of hyperparameters where each hyperparameter is a different # of neighbours (list of integers)\n",
    "*   **inputs**: matrix of data points to be used when searching for neighbours (numpy array of N data points by M features)\n",
    "*   **labels**: vector of labels associated with the inputs (numpy array of N labels)\n",
    "\n",
    "Outputs:\n",
    "*   **best_hyperparam**: best # of neighbours for KNN (integer)\n",
    "*   **best_accuracy**: accuracy achieved with best_hyperparam (float)\n",
    "*   **accuracies**: vector of accuracies for the corresponding hyperparameters (numpy array of floats)\n",
    "\n",
    "\n",
    "\n"
   ]
  },
  {
   "cell_type": "code",
   "execution_count": 18,
   "metadata": {
    "colab": {},
    "colab_type": "code",
    "id": "VpHnYR3x1mFZ"
   },
   "outputs": [],
   "source": [
    "def cross_validation_knn(k_folds, hyperparameters, inputs, labels):\n",
    "    size = len(inputs)//k_folds\n",
    "    params = {}\n",
    "    test_start = 0\n",
    "    test_end = size\n",
    "    for i in range(k_folds):\n",
    "        test_set = inputs[test_start:test_end]\n",
    "        test_labels = labels[test_start:test_end]\n",
    "        train_set =  np.vstack((inputs[:test_start],inputs[test_end:]))\n",
    "        train_labels= np.append(labels[:test_start],labels[test_end:])\n",
    "        for p in hyperparameters:\n",
    "            params[p] = params.get(p,0) + eval_knn(test_set, test_labels, train_set, train_labels,p)\n",
    "        test_start = test_end\n",
    "        test_end += size\n",
    "    for i in params:\n",
    "        params[i] = params[i] / k_folds\n",
    "    best_hyperparam = max(params, key = params.get)\n",
    "    best_accuracy = max(params.values())\n",
    "    accuracies = np.zeros(len(hyperparameters))\n",
    "    for i in range(len(hyperparameters)):\n",
    "        accuracies[i] = params[hyperparameters[i]]\n",
    "    return best_hyperparam, best_accuracy, accuracies"
   ]
  },
  {
   "cell_type": "markdown",
   "metadata": {
    "colab_type": "text",
    "id": "qb31YTWg4rSm"
   },
   "source": [
    "# Function: plot_knn_accuracies\n",
    "\n",
    "Function that plots the KNN accuracies for different # of neighbours (hyperparameters) based on cross validation\n",
    "\n",
    "Inputs:\n",
    "*   **accuracies**: vector of accuracies for the corresponding hyperparameters (numpy array of floats)\n",
    "*   **hyperparams**: list of hyperparameters where each hyperparameter is a different # of neighbours (list of integers)\n"
   ]
  },
  {
   "cell_type": "code",
   "execution_count": 19,
   "metadata": {
    "colab": {},
    "colab_type": "code",
    "id": "MpbE_-Yt5HiI"
   },
   "outputs": [],
   "source": [
    "def plot_knn_accuracies(accuracies,hyperparams):\n",
    "  plt.plot(hyperparams,accuracies)\n",
    "  plt.ylabel('accuracy')\n",
    "  plt.xlabel('k neighbours')\n",
    "  plt.show()  "
   ]
  },
  {
   "cell_type": "markdown",
   "metadata": {
    "colab_type": "text",
    "id": "iF2YiZnMaws8"
   },
   "source": [
    "# Main KNN code\n",
    "\n",
    "Load data.\n",
    "Use k-fold cross validation to find the best # of neighbours for KNN.\n",
    "Plot accuracies for different # of neighbours.\n",
    "Test KNN with the best # of neighbours."
   ]
  },
  {
   "cell_type": "code",
   "execution_count": 48,
   "metadata": {
    "colab": {},
    "colab_type": "code",
    "id": "Qw6MLmQ8bpA1"
   },
   "outputs": [
    {
     "data": {
      "image/png": "[encoded data removed]",
      "text/plain": [
       "<Figure size 432x288 with 1 Axes>"
      ]
     },
     "metadata": {
      "needs_background": "light"
     },
     "output_type": "display_data"
    },
    {
     "name": "stdout",
     "output_type": "stream",
     "text": [
      "best # of neighbours k: 20\n",
      "best cross validation accuracy: 0.794\n",
      "test accuracy: 0.7727272727272727\n"
     ]
    }
   ],
   "source": [
    "# load data\n",
    "train_inputs, train_labels, test_inputs, test_labels = load_knn_data()\n",
    "\n",
    "# number of neighbours to be evaluated by cross validation\n",
    "hyperparams = range(1,31)\n",
    "k_folds = 10\n",
    "best_k_neighbours, best_accuracy, accuracies = cross_validation_knn(k_folds, hyperparams, train_inputs, train_labels)\n",
    "\n",
    "# plot results\n",
    "plot_knn_accuracies(accuracies, hyperparams)\n",
    "print('best # of neighbours k: ' + str(best_k_neighbours))\n",
    "print('best cross validation accuracy: ' + str(best_accuracy))\n",
    "\n",
    "# evaluate with best # of neighbours\n",
    "accuracy = eval_knn(test_inputs, test_labels, train_inputs, train_labels, best_k_neighbours)\n",
    "print('test accuracy: '+ str(accuracy))\n"
   ]
  },
  {
   "cell_type": "code",
   "execution_count": null,
   "metadata": {},
   "outputs": [],
   "source": []
  }
 ],
 "metadata": {
  "colab": {
   "name": "cs480_fall20_asst1_knn_skeleton.ipynb",
   "provenance": []
  },
  "kernelspec": {
   "display_name": "Python 3",
   "language": "python",
   "name": "python3"
  },
  "language_info": {
   "codemirror_mode": {
    "name": "ipython",
    "version": 3
   },
   "file_extension": ".py",
   "mimetype": "text/x-python",
   "name": "python",
   "nbconvert_exporter": "python",
   "pygments_lexer": "ipython3",
   "version": "3.7.2"
  }
 },
 "nbformat": 4,
 "nbformat_minor": 1
}
