{
  "nbformat": 4,
  "nbformat_minor": 0,
  "metadata": {
    "colab": {
      "name": "cs480_fall20_asst2_logistic_regression_skeleton.ipynb",
      "provenance": [],
      "collapsed_sections": [],
      "toc_visible": true
    },
    "kernelspec": {
      "display_name": "Python 3",
      "language": "python",
      "name": "python3"
    },
    "language_info": {
      "codemirror_mode": {
        "name": "ipython",
        "version": 3
      },
      "file_extension": ".py",
      "mimetype": "text/x-python",
      "name": "python",
      "nbconvert_exporter": "python",
      "pygments_lexer": "ipython3",
      "version": "3.7.2"
    },
    "accelerator": "GPU"
  },
  "cells": [
    {
      "cell_type": "markdown",
      "metadata": {
        "id": "JFXZug066bJX"
      },
      "source": [
        "# Upload files in Google Colab\n",
        "If you are running this Jupyter Notebook on Google Colab, run this cell to upload the data files (train_inputs.csv, train_targets.csv, test_inputs.csv, test_targets.csv) in the colab virtual machine.  You will be prompted to select files that you would like to upload. \n",
        "\n",
        "If you are running this Jupyter Notebook on your computer, you do not need to run this cell."
      ]
    },
    {
      "cell_type": "code",
      "metadata": {
        "id": "dqBJV_Br4XeI"
      },
      "source": [
        "from google.colab import files\n",
        "uploaded = files.upload()\n",
        "%ls"
      ],
      "execution_count": null,
      "outputs": []
    },
    {
      "cell_type": "markdown",
      "metadata": {
        "id": "LZDpxE4jmFwA"
      },
      "source": [
        "# Import libraries \n",
        "Do not use any other Python library."
      ]
    },
    {
      "cell_type": "code",
      "metadata": {
        "id": "m_1d0BPfmacB"
      },
      "source": [
        "import numpy as np\n",
        "import matplotlib.pyplot as plt"
      ],
      "execution_count": null,
      "outputs": []
    },
    {
      "cell_type": "markdown",
      "metadata": {
        "id": "6keYhcgi7nbf"
      },
      "source": [
        "# Function: load_logistic_regression_data\n",
        "\n",
        "This function loads the data for Logistic Regression from a local drive into RAM\n",
        "\n",
        "Outputs:\n",
        "\n",
        "*   **train_inputs**: numpy array of N training data points x M features\n",
        "*   **train_labels**: numpy array of N training labels\n",
        "*   **test_inputs**: numpy array of N' test data points x M features\n",
        "*   **test_labels**: numpy array of N' test labels"
      ]
    },
    {
      "cell_type": "code",
      "metadata": {
        "id": "vcG5U2lR7utt"
      },
      "source": [
        "def load_logistic_regression_data():\n",
        "  test_inputs = np.genfromtxt('test_inputs.csv', delimiter=',')\n",
        "  test_labels = np.genfromtxt('test_labels.csv', delimiter=',')\n",
        "  train_inputs = np.genfromtxt('train_inputs.csv', delimiter=',')\n",
        "  train_labels = np.genfromtxt('train_labels.csv', delimiter=',')\n",
        "  return train_inputs, train_labels, test_inputs, test_labels"
      ],
      "execution_count": null,
      "outputs": []
    },
    {
      "cell_type": "markdown",
      "metadata": {
        "id": "NZTxUMDM2PDx"
      },
      "source": [
        "# Function: sigmoid\n",
        "\n",
        "This function implements the logistic sigmoid.\n",
        "\n",
        "Input:\n",
        "*   **input**: vector of inputs (numpy array of floats)\n",
        "\n",
        "Output:\n",
        "*   **output**: vector of outputs (numpy array of floats)"
      ]
    },
    {
      "cell_type": "code",
      "metadata": {
        "id": "evR9GYnV3FmM"
      },
      "source": [
        "def sigmoid(input):\n",
        "    return 1 / (1 + np.exp(-input))"
      ],
      "execution_count": null,
      "outputs": []
    },
    {
      "cell_type": "markdown",
      "metadata": {
        "id": "GwLo3p4f8bTa"
      },
      "source": [
        "# Function: predict_logistic_regression\n",
        "\n",
        "This function uses a vector of weights to make predictions for a set of inputs.  The prediction for each data point is a distribution over the labels.  Assume that there are only two possible labels {0,1}.\n",
        "\n",
        "Inputs:\n",
        "*   **inputs**: matrix of input data points for which we want to make a prediction (numpy array of N data points x M+1 features)\n",
        "*   **weights**: vector of weights (numpy array of M+1 weights)\n",
        "\n",
        "Output:\n",
        "*   **predicted_probabilities**: matrix of predicted probabilities (numpy array of N data points x 2 labels)"
      ]
    },
    {
      "cell_type": "code",
      "metadata": {
        "id": "iX04_wClRqkV"
      },
      "source": [
        "def predict_logistic_regression(inputs, weights):\n",
        "  ones = sigmoid(weights@inputs.T)\n",
        "  zeros = 1 - ones\n",
        "  predicted_probabilities = np.array([ones, zeros])\n",
        "  return predicted_probabilities"
      ],
      "execution_count": null,
      "outputs": []
    },
    {
      "cell_type": "markdown",
      "metadata": {
        "id": "fmfPN7K0RtQ5"
      },
      "source": [
        "# Function eval_logistic_regression\n",
        "\n",
        "This function evaluates a set of predictions by computing the negative log probabilities of the labels and the accuracy (percentage of correctly predicted labels).  Assume that there are only two possible labels {0,1}.  A data point is correctly labeled when the probability of the target label is >= 0.5.\n",
        "\n",
        "Inputs:\n",
        "*   **inputs**: matrix of input data points for which we will evaluate the predictions (numpy array of N data points x M+1 features)\n",
        "*   **weights**: vector of weights (numpy array of M+1 weights)\n",
        "*   **labels**: vector of target labels associated with the inputs (numpy array of N labels)\n",
        "\n",
        "Outputs:\n",
        "*   **neg_log_prob**: negative log probability of the set of predictions (float)\n",
        "*   **accuracy**: percentage of correctly labeled data points (float)"
      ]
    },
    {
      "cell_type": "code",
      "metadata": {
        "id": "wC14LEsvTxbu"
      },
      "source": [
        "def eval_logistic_regression(inputs, weights, labels):\n",
        "  predicted = predict_logistic_regression(inputs, weights)\n",
        "  label = np.array([labels, 1-labels])\n",
        "  prediction = np.log(predicted)\n",
        "  sum_1 = np.einsum('ij,ij->ij', label, prediction).sum(axis=0)\n",
        "  neg_log_prob = - np.sum(sum_1)\n",
        "  def f(x):\n",
        "    if x >= 0.5:\n",
        "      return 1\n",
        "    else:\n",
        "      return 0\n",
        "  predict = np.array(list(map(f, predicted[0,:])))\n",
        "  accuracy = np.mean( labels == predict)\n",
        "  return neg_log_prob, accuracy"
      ],
      "execution_count": null,
      "outputs": []
    },
    {
      "cell_type": "markdown",
      "metadata": {
        "id": "R7hZ4XVP4U4y"
      },
      "source": [
        "Function: initialize_weights\n",
        "\n",
        "This function initializes the weights uniformly at random in the interval [-0.05,0.05]\n",
        "\n",
        "Input:\n",
        "*   **n_weights**: # of weights to be initialized (integer)\n",
        "\n",
        "Output:\n",
        "*   **random_weights**: vector of weights (numpy array of floats)"
      ]
    },
    {
      "cell_type": "code",
      "metadata": {
        "id": "9OjhevpV5FBg"
      },
      "source": [
        "def initialize_weights(n_weights):\n",
        "  random_weights = np.random.uniform(low=-0.05, high=0.05, size=n_weights)\n",
        "  return random_weights"
      ],
      "execution_count": null,
      "outputs": []
    },
    {
      "cell_type": "markdown",
      "metadata": {
        "id": "RMAzC5xXT0H-"
      },
      "source": [
        "# Function train_logistic_regression\n",
        "\n",
        "This function optimizes a set of weights for logistic regression based on a training set.  Initialize the weights with the function initialize_weights.  Implement Newton's algorithm to optimize the weights.  Stop Newton's algorithm when the maximum change for all weights is less than 0.001 in two consecutive iterations. Assume that there are only two labels {0,1}.\n",
        "\n",
        "Inputs:\n",
        "*   **train_inputs**: matrix of input training points (numpy array of N data points x M+1 features)\n",
        "*   **train_labels**: vector of labels associated with the inputs (numpy array of N labels)\n",
        "*   **lambda_hyperparam**: lambda hyperparameter used to adjust the importance of the regularizer (scalar)\n",
        "\n",
        "Output:\n",
        "*   **weights**: vector of weights that have been optimized (numpy array of M+1 weights)\n",
        "\n"
      ]
    },
    {
      "cell_type": "code",
      "metadata": {
        "id": "_DkzoT5QVy41"
      },
      "source": [
        "def train_logistic_regression(train_inputs, train_labels, lambda_hyperparam):\n",
        "  weights = initialize_weights(len(train_inputs[0]))\n",
        "  newWeight = weights\n",
        "  while True:\n",
        "    weights = newWeight\n",
        "    prediction = predict_logistic_regression(train_inputs, weights)\n",
        "    diff = prediction[0] - train_labels\n",
        "    # Define gradient\n",
        "    gradient = np.dot(train_inputs.T, diff) + lambda_hyperparam*weights\n",
        "    # Define R matrix\n",
        "    R = prediction[0]*prediction[1]\n",
        "    R = np.diag(R)\n",
        "    # Fill in hyper param\n",
        "    hyperParam = np.empty(len(train_inputs[0]))\n",
        "    hyperParam.fill(lambda_hyperparam)\n",
        "    hyperParamMatrix = np.diag(hyperParam)\n",
        "    #Create Hessian Matrix\n",
        "    Hessian = np.matmul(np.matmul(train_inputs.T, R), train_inputs) + hyperParamMatrix\n",
        "    #change\n",
        "    change = np.linalg.inv(Hessian)@gradient\n",
        "    newWeight = weights - change\n",
        "    change = max(np.abs(change))\n",
        "    if change <= 0.001:\n",
        "      weights = newWeight\n",
        "      prediction = predict_logistic_regression(train_inputs, weights)\n",
        "      diff = prediction[0] - train_labels\n",
        "      # Define gradient\n",
        "      gradient = np.dot(train_inputs.T, diff) + lambda_hyperparam*weights\n",
        "      # Define R matrirx\n",
        "      R = prediction[0]*prediction[1]\n",
        "      R = np.diag(R)\n",
        "      # Fill in hyper param\n",
        "      hyperParam = np.empty(len(train_inputs[0]))\n",
        "      hyperParam.fill(lambda_hyperparam)\n",
        "      hyperParamMatrix = np.diag(hyperParam)\n",
        "      #Create Hessian Matrix\n",
        "      Hessian = np.matmul(np.matmul(train_inputs.T, R), train_inputs) + hyperParamMatrix\n",
        "      #change\n",
        "      change = np.linalg.inv(Hessian)@gradient\n",
        "      newWeight = weights - change\n",
        "      change = max(np.abs(change))\n",
        "      if change <= 0.001:\n",
        "        break\n",
        "  return newWeight\n",
        "\n"
      ],
      "execution_count": null,
      "outputs": []
    },
    {
      "cell_type": "markdown",
      "metadata": {
        "id": "VYIbLxX7V2DW"
      },
      "source": [
        "# Function cross_validation_logistic_regression\n",
        "\n",
        "This function performs k-fold cross validation to determine the best lambda hyperparameter in logistic regression\n",
        "\n",
        "Inputs:\n",
        "*   **k_folds**: # of folds in cross-validation (integer)\n",
        "*   **hyperparameters**: list of hyperparameters where each hyperparameter is a different lambda value (list of floats)\n",
        "*   **inputs**: matrix of input points (numpy array of N data points by M+1 features)\n",
        "*   **labels**: vector of labels associated with the inputs (numpy array of N labels)\n",
        "\n",
        "Outputs:\n",
        "*   **best_hyperparam**: best lambda value for logistic regression (float)\n",
        "*   **best_neg_log_prob**: negative log probabilty achieved with best_hyperparam (float)\n",
        "*   **neg_log_probabilities**: vector of negative log probabilities for the corresponding hyperparameters (numpy array of floats)\n",
        "\n"
      ]
    },
    {
      "cell_type": "code",
      "metadata": {
        "id": "_ZzoiZxLZMcV"
      },
      "source": [
        "def cross_validation_logistic_regression(k_folds, hyperparameters, inputs, labels):\n",
        "  size = len(inputs)//k_folds\n",
        "  params = {}\n",
        "  test_start = 0\n",
        "  test_end = size\n",
        "  for i in range(k_folds):\n",
        "    test_set = inputs[test_start:test_end]\n",
        "    test_labels = labels[test_start:test_end]\n",
        "    train_set =  np.vstack((inputs[:test_start],inputs[test_end:]))\n",
        "    train_labels= np.append(labels[:test_start],labels[test_end:])\n",
        "    for p in hyperparameters:\n",
        "      weights = train_logistic_regression(train_set, train_labels, p)\n",
        "      params[p] = params.get(p, 0) + eval_logistic_regression(test_set, weights, test_labels)[0]\n",
        "    test_start = test_end\n",
        "    test_end += size\n",
        "  for i in params:\n",
        "    params[i] = params[i] / k_folds\n",
        "  best_hyperparam = min(params, key = params.get)\n",
        "  best_neg_log_prob = min(params.values())\n",
        "  neg_log_probabilities = np.zeros(len(hyperparameters))\n",
        "  for i in range(len(hyperparameters)):\n",
        "    neg_log_probabilities[i] = params[hyperparameters[i]]\n",
        "  return best_hyperparam, best_neg_log_prob, neg_log_probabilities"
      ],
      "execution_count": null,
      "outputs": []
    },
    {
      "cell_type": "markdown",
      "metadata": {
        "id": "_ah5AAayZfVU"
      },
      "source": [
        "# Function: plot_logistic_regression_neg_log_probabilities\n",
        "\n",
        "Function that plots the negative log probabilities for different lambda values (hyperparameters) in logistic regression based on cross validation\n",
        "\n",
        "Inputs:\n",
        "*   **neg_log_probabilities**: vector of negative log probabilities for the corresponding hyperparameters (numpy array of floats)\n",
        "*   **hyperparams**: list of hyperparameters where each hyperparameter is a different lambda value (list of floats)"
      ]
    },
    {
      "cell_type": "code",
      "metadata": {
        "id": "dh9qZuzMatsZ"
      },
      "source": [
        "def plot_logistic_regression_neg_log_probabilities(neg_log_probabilities,hyperparams):\n",
        "  plt.plot(hyperparams,neg_log_probabilities)\n",
        "  plt.ylabel('negative log probability')\n",
        "  plt.xlabel('lambda')\n",
        "  plt.show()"
      ],
      "execution_count": null,
      "outputs": []
    },
    {
      "cell_type": "markdown",
      "metadata": {
        "id": "s21LRP5Qb3m8"
      },
      "source": [
        "# Main Logistic Regression code\n",
        "\n",
        "Load data (rescale the inputs to be in the [-1,1] range, add 1 at the end of each datapoint and rename the labels 5,6 to 0,1).\n",
        "Use k-fold cross validation to find the best lambda value for logistic regression.\n",
        "Plot the negative log probabilities for different lambda values.\n",
        "Test logistic regression with the best lambda value."
      ]
    },
    {
      "cell_type": "code",
      "metadata": {
        "id": "njlK2bf7sycQ",
        "outputId": "fdbd13a5-efcd-49ba-a4aa-0722f6a0ea70",
        "colab": {
          "base_uri": "https://localhost:8080/",
          "height": 347
        }
      },
      "source": [
        "# load data\n",
        "train_inputs, train_labels, test_inputs, test_labels = load_logistic_regression_data()\n",
        "\n",
        "# rescale inputs in the [-1,1] range\n",
        "train_inputs = (train_inputs - 8)/8\n",
        "test_inputs = (test_inputs - 8)/8\n",
        "\n",
        "# add 1 at the end of each data point\n",
        "train_inputs = np.concatenate((train_inputs,np.ones((train_inputs.shape[0],1))),1)\n",
        "test_inputs = np.concatenate((test_inputs,np.ones((test_inputs.shape[0],1))),1)\n",
        "\n",
        "# rename the classes 5,6 to 0,1\n",
        "train_labels = train_labels.astype(int) - 5\n",
        "test_labels = test_labels.astype(int) - 5\n",
        "# lambda values to be evaluated by cross validation\n",
        "#hyperparams = range(201)\n",
        "hyperparams = range(201)\n",
        "k_folds = 10\n",
        "best_lambda, best_neg_log_prob, neg_log_probabilities = cross_validation_logistic_regression(k_folds,hyperparams,train_inputs,train_labels)\n",
        "\n",
        "# plot results\n",
        "plot_logistic_regression_neg_log_probabilities(neg_log_probabilities,hyperparams)\n",
        "print('best lambda: ' + str (best_lambda))\n",
        "print('best cross validation negative log probability: ' + str(best_neg_log_prob))\n",
        "\n",
        "# train and evaluate with best lambda\n",
        "weights = train_logistic_regression(train_inputs,train_labels,best_lambda)\n",
        "neg_log_prob, accuracy = eval_logistic_regression(test_inputs, weights, test_labels)\n",
        "print('test accuracy: ' + str(accuracy))\n",
        "print('test negative log probability: ' + str(neg_log_prob))"
      ],
      "execution_count": null,
      "outputs": [
        {
          "output_type": "display_data",
          "data": {
            "image/png": "[encoded data removed]",
            "text/plain": [
              "<Figure size 432x288 with 1 Axes>"
            ]
          },
          "metadata": {
            "tags": [],
            "needs_background": "light"
          }
        },
        {
          "output_type": "stream",
          "text": [
            "best lambda: 8\n",
            "best cross validation negative log probability: 37.60806425509706\n",
            "test accuracy: 0.8727272727272727\n",
            "test negative log probability: 33.29202902957885\n"
          ],
          "name": "stdout"
        }
      ]
    },
    {
      "cell_type": "markdown",
      "metadata": {
        "id": "GBYNG5JKyHY8"
      },
      "source": [
        "Q2\n",
        "\n",
        "Logistic regression works best on classifying data that is linearly separable and when $P(x|c_k)$ are members of the exponential family. Where as KNN works better with data that is non-linearly separable and doesn't require the data noise to follow any distribution. KNN can represent a larger hypothesis space, hence it is more expressive.\n",
        "\n",
        "The test accuracy for KNN was at around 79%, where as the test accuracy for logistic regression is 87%. Logistic regression model performs better for this set of data. This could mean the data might have a distribution close to an exponential family distribution.  There could also have been a lot of points in different classes that were close to each other but the data could have been linearly separated, which results in KNN being less accurate than Logistic Regression. At the same time, KNN was not weighted, so this could have lead to inaccuracy as well.\n",
        "\n"
      ]
    },
    {
      "cell_type": "code",
      "metadata": {
        "id": "0Za6YbWo1Mcz",
        "outputId": "296e3d0e-5eb2-41b6-ad87-deb04af4e229",
        "colab": {
          "base_uri": "https://localhost:8080/",
          "height": 306
        }
      },
      "source": [
        "weights = train_logistic_regression(train_inputs, train_labels, 0)\n",
        "weights"
      ],
      "execution_count": null,
      "outputs": [
        {
          "output_type": "execute_result",
          "data": {
            "text/plain": [
              "array([ 6.09961925e-02, -3.63528065e-01, -3.06369745e-01, -8.65983938e-02,\n",
              "       -5.60790631e-01, -1.48669076e+00, -3.71081986e-01, -2.90893461e-01,\n",
              "       -6.40147888e-01, -9.10784651e-02, -7.84653557e-01,  1.92811474e-02,\n",
              "       -3.97892869e-01, -1.20117472e+00,  6.08786128e-02,  2.72554618e-01,\n",
              "       -4.17122298e-01, -4.53364747e-01,  4.59471658e-02,  4.43235776e-01,\n",
              "       -3.85014146e-01,  6.64372746e-01,  2.52934854e-01, -1.79300694e-01,\n",
              "       -4.83791753e-01, -1.19516043e-01, -6.24006549e-04, -2.91636756e-01,\n",
              "       -5.52823900e-01, -1.16920109e-01,  8.01049063e-01, -1.81372209e-01,\n",
              "       -8.84709546e-01,  1.40229746e-01,  4.52359641e-01,  2.16486269e-01,\n",
              "        6.89394847e-02,  6.37208770e-01,  3.43708096e-01,  4.08490416e-01,\n",
              "       -4.01185924e-02, -1.58831916e-01,  1.77788930e+00,  7.28548724e-01,\n",
              "        7.64249850e-02, -1.62876308e-01, -1.23550640e-01,  3.38562183e-01,\n",
              "       -2.36560359e-02,  7.13805129e-01,  6.71155857e-01,  5.71865156e-01,\n",
              "       -5.23004378e-01,  3.32270692e-01,  6.37033678e-01,  1.69485451e-01,\n",
              "        4.86493377e-01,  6.94301104e-01, -7.69551972e-01, -5.58661182e-01,\n",
              "        2.39155507e-01,  6.74574498e-01,  1.78711824e-01, -3.23181996e-02,\n",
              "       -2.42970565e-02])"
            ]
          },
          "metadata": {
            "tags": []
          },
          "execution_count": 14
        }
      ]
    },
    {
      "cell_type": "code",
      "metadata": {
        "id": "c1Q1id5JmxIc",
        "outputId": "4c9a28e5-0b22-4220-8b15-2fc3b0617f73",
        "colab": {
          "base_uri": "https://localhost:8080/",
          "height": 34
        }
      },
      "source": [
        "print(\"accuracy:\",eval_logistic_regression(test_inputs, weights, test_labels)[1])"
      ],
      "execution_count": null,
      "outputs": [
        {
          "output_type": "stream",
          "text": [
            "accuracy: 0.8636363636363636\n"
          ],
          "name": "stdout"
        }
      ]
    },
    {
      "cell_type": "markdown",
      "metadata": {
        "id": "00CpmfLsi8-g"
      },
      "source": [
        "The code above looks at the weights on the training set with $\\lambda = 0$, so the larger weights are not penalized. If any of the weights have a really large value or a really small value, then this could indicate that the data is very linearly separable. This is because to reach $\\sigma(w^Tx)->1$, need $w^Tx -> \\infty$ and therefore $||w|| -> \\infty$. So if the data is perfectly linearly separable, then weights $-> \\pm\\infty$. For this dataset, none of the weights are super large or super small, so the data isn't perfectly linearly separable. At the same time, if the data is linearly separable, then the accuracy should be close to 100%. Here, the accuracy is at 86%, not super high."
      ]
    },
    {
      "cell_type": "code",
      "metadata": {
        "id": "nvtXtGp7lFc0"
      },
      "source": [
        ""
      ],
      "execution_count": null,
      "outputs": []
    }
  ]
}